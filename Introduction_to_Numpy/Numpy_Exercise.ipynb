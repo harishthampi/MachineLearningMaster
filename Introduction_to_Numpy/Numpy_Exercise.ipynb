{
 "cells": [
  {
   "cell_type": "code",
   "execution_count": 1,
   "id": "83c83693-ffbf-419f-8665-35c0c36fb4da",
   "metadata": {},
   "outputs": [],
   "source": [
    "# Import NumPy as its abbreviation 'np'"
   ]
  },
  {
   "cell_type": "code",
   "execution_count": 2,
   "id": "e59587b2-afca-4e60-b408-1a668a0b7f67",
   "metadata": {},
   "outputs": [],
   "source": [
    "import numpy as np"
   ]
  },
  {
   "cell_type": "code",
   "execution_count": 6,
   "id": "fb037a18-1b5e-4ecc-9767-d29ba5067e10",
   "metadata": {},
   "outputs": [
    {
     "data": {
      "text/plain": [
       "array([1, 2, 3, 4])"
      ]
     },
     "execution_count": 6,
     "metadata": {},
     "output_type": "execute_result"
    }
   ],
   "source": [
    "# Create a 1-dimensional NumPy array using np.array()\n",
    "array_1D = np.array([1,2,3,4])\n",
    "array_1D"
   ]
  },
  {
   "cell_type": "code",
   "execution_count": 8,
   "id": "a8221d9f-babf-4481-854b-ddd6ef56228f",
   "metadata": {},
   "outputs": [
    {
     "data": {
      "text/plain": [
       "array([[1, 2, 3, 4],\n",
       "       [5, 6, 7, 8]])"
      ]
     },
     "execution_count": 8,
     "metadata": {},
     "output_type": "execute_result"
    }
   ],
   "source": [
    "# Create a 2-dimensional NumPy array using np.array()\n",
    "array_2D = np.array([[1,2,3,4],[5,6,7,8]])\n",
    "array_2D"
   ]
  },
  {
   "cell_type": "code",
   "execution_count": 15,
   "id": "afa7f89f-35af-47cc-9abd-a75b4df7aa5e",
   "metadata": {},
   "outputs": [
    {
     "data": {
      "text/plain": [
       "array([[[ 1,  2,  3,  4],\n",
       "        [ 5,  6,  7,  8]],\n",
       "\n",
       "       [[11, 13, 14, 15],\n",
       "        [16, 17, 18, 19]]])"
      ]
     },
     "execution_count": 15,
     "metadata": {},
     "output_type": "execute_result"
    }
   ],
   "source": [
    "# Create a 3-dimensional Numpy array using np.array()\n",
    "array_3D = np.array([[[1,2,3,4],[5,6,7,8]],[[11,13,14,15],[16,17,18,19]]])\n",
    "array_3D"
   ]
  },
  {
   "cell_type": "code",
   "execution_count": 20,
   "id": "4a77e1ce-1d4c-45c1-8b3f-7bdb1f48bdab",
   "metadata": {},
   "outputs": [
    {
     "data": {
      "text/plain": [
       "((4,), 1, dtype('int64'), 4, numpy.ndarray)"
      ]
     },
     "execution_count": 20,
     "metadata": {},
     "output_type": "execute_result"
    }
   ],
   "source": [
    "# Attributes of 1-dimensional array (shape, \n",
    "# number of dimensions, data type, size and type)\n",
    "array_1D.shape , array_1D.ndim , array_1D.dtype , array_1D.size , type(array_1D)"
   ]
  },
  {
   "cell_type": "code",
   "execution_count": 21,
   "id": "cfdcea88-a6db-449a-93d0-2c0b5519f7cd",
   "metadata": {},
   "outputs": [
    {
     "data": {
      "text/plain": [
       "((2, 4), 2, dtype('int64'), 8, numpy.ndarray)"
      ]
     },
     "execution_count": 21,
     "metadata": {},
     "output_type": "execute_result"
    }
   ],
   "source": [
    "# Attributes of 2-dimensional array\n",
    "# (shape,number of dimensions, data type, size and type)\n",
    "array_2D.shape , array_2D.ndim , array_2D.dtype , array_2D.size , type(array_2D)"
   ]
  },
  {
   "cell_type": "code",
   "execution_count": 22,
   "id": "35e0f500-e79d-4a2c-805f-4ce895401a2d",
   "metadata": {},
   "outputs": [
    {
     "data": {
      "text/plain": [
       "((2, 2, 4), 3, dtype('int64'), 16, numpy.ndarray)"
      ]
     },
     "execution_count": 22,
     "metadata": {},
     "output_type": "execute_result"
    }
   ],
   "source": [
    "# Attributes of 3-dimensional array\n",
    "# (shape,number of dimensions, data type, size and type)\n",
    "array_3D.shape, array_3D.ndim , array_3D.dtype , array_3D.size ,type(array_3D)"
   ]
  },
  {
   "cell_type": "code",
   "execution_count": 23,
   "id": "a5ccf979-eda2-4058-8105-ad6f3650e4d2",
   "metadata": {},
   "outputs": [],
   "source": [
    "# Import pandas and create a DataFrame out of one\n",
    "# of the arrays you've created\n",
    "import pandas as pd"
   ]
  },
  {
   "cell_type": "code",
   "execution_count": 24,
   "id": "5b9412de-e3c0-492f-adcb-2faaf4eb7481",
   "metadata": {},
   "outputs": [
    {
     "data": {
      "text/html": [
       "<div>\n",
       "<style scoped>\n",
       "    .dataframe tbody tr th:only-of-type {\n",
       "        vertical-align: middle;\n",
       "    }\n",
       "\n",
       "    .dataframe tbody tr th {\n",
       "        vertical-align: top;\n",
       "    }\n",
       "\n",
       "    .dataframe thead th {\n",
       "        text-align: right;\n",
       "    }\n",
       "</style>\n",
       "<table border=\"1\" class=\"dataframe\">\n",
       "  <thead>\n",
       "    <tr style=\"text-align: right;\">\n",
       "      <th></th>\n",
       "      <th>0</th>\n",
       "      <th>1</th>\n",
       "      <th>2</th>\n",
       "      <th>3</th>\n",
       "    </tr>\n",
       "  </thead>\n",
       "  <tbody>\n",
       "    <tr>\n",
       "      <th>0</th>\n",
       "      <td>1</td>\n",
       "      <td>2</td>\n",
       "      <td>3</td>\n",
       "      <td>4</td>\n",
       "    </tr>\n",
       "    <tr>\n",
       "      <th>1</th>\n",
       "      <td>5</td>\n",
       "      <td>6</td>\n",
       "      <td>7</td>\n",
       "      <td>8</td>\n",
       "    </tr>\n",
       "  </tbody>\n",
       "</table>\n",
       "</div>"
      ],
      "text/plain": [
       "   0  1  2  3\n",
       "0  1  2  3  4\n",
       "1  5  6  7  8"
      ]
     },
     "execution_count": 24,
     "metadata": {},
     "output_type": "execute_result"
    }
   ],
   "source": [
    "dataFrame_1 = pd.DataFrame(array_2D)\n",
    "dataFrame_1"
   ]
  },
  {
   "cell_type": "code",
   "execution_count": 25,
   "id": "b4f44a72-6966-40df-ad44-7c3bf24f1e25",
   "metadata": {},
   "outputs": [
    {
     "data": {
      "text/plain": [
       "array([[1., 1.],\n",
       "       [1., 1.],\n",
       "       [1., 1.],\n",
       "       [1., 1.],\n",
       "       [1., 1.],\n",
       "       [1., 1.],\n",
       "       [1., 1.],\n",
       "       [1., 1.],\n",
       "       [1., 1.],\n",
       "       [1., 1.]])"
      ]
     },
     "execution_count": 25,
     "metadata": {},
     "output_type": "execute_result"
    }
   ],
   "source": [
    "# Create an array of shape (10, 2) with only ones\n",
    "onesArray = np.ones((10,2))\n",
    "onesArray"
   ]
  },
  {
   "cell_type": "code",
   "execution_count": 26,
   "id": "202aab82-01c8-41bd-b6f9-ee36b9698294",
   "metadata": {},
   "outputs": [
    {
     "data": {
      "text/plain": [
       "array([[[0., 0., 0.],\n",
       "        [0., 0., 0.]],\n",
       "\n",
       "       [[0., 0., 0.],\n",
       "        [0., 0., 0.]],\n",
       "\n",
       "       [[0., 0., 0.],\n",
       "        [0., 0., 0.]],\n",
       "\n",
       "       [[0., 0., 0.],\n",
       "        [0., 0., 0.]],\n",
       "\n",
       "       [[0., 0., 0.],\n",
       "        [0., 0., 0.]],\n",
       "\n",
       "       [[0., 0., 0.],\n",
       "        [0., 0., 0.]],\n",
       "\n",
       "       [[0., 0., 0.],\n",
       "        [0., 0., 0.]]])"
      ]
     },
     "execution_count": 26,
     "metadata": {},
     "output_type": "execute_result"
    }
   ],
   "source": [
    "# Create an array of shape (7, 2, 3) of only zeros\n",
    "zerosArray = np.zeros((7,2,3))\n",
    "zerosArray"
   ]
  },
  {
   "cell_type": "code",
   "execution_count": 28,
   "id": "f6766f61-72bd-4fd0-9e8a-6687baa1e486",
   "metadata": {},
   "outputs": [
    {
     "data": {
      "text/plain": [
       "array([ 0,  3,  6,  9, 12, 15, 18, 21, 24, 27, 30, 33, 36, 39, 42, 45, 48,\n",
       "       51, 54, 57, 60, 63, 66, 69, 72, 75, 78, 81, 84, 87, 90, 93, 96, 99])"
      ]
     },
     "execution_count": 28,
     "metadata": {},
     "output_type": "execute_result"
    }
   ],
   "source": [
    "# Create an array within a range of 0 and 100 with step 3\n",
    "randomArray_1 = np.arange(0,100,3)\n",
    "randomArray_1\n",
    "#arange() -> arange(start,stop,step,) "
   ]
  },
  {
   "cell_type": "code",
   "execution_count": 29,
   "id": "8ca73302-4ffa-495f-838f-b0c54a6da80b",
   "metadata": {},
   "outputs": [
    {
     "data": {
      "text/plain": [
       "array([[8, 6],\n",
       "       [3, 5],\n",
       "       [5, 2],\n",
       "       [8, 5],\n",
       "       [6, 6],\n",
       "       [9, 8],\n",
       "       [7, 3]], dtype=int32)"
      ]
     },
     "execution_count": 29,
     "metadata": {},
     "output_type": "execute_result"
    }
   ],
   "source": [
    "# Create a random array with numbers between 0 and 10 of size (7, 2)\n",
    "randomArray_2 = np.random.randint(0,10,(7,2))\n",
    "randomArray_2\n",
    "#np.random.randint(10,(7, 2)) – Create an array of 7x2 random integers between 0 and 9"
   ]
  },
  {
   "cell_type": "code",
   "execution_count": 36,
   "id": "5f64d464-e921-498a-ae3a-7218698d330a",
   "metadata": {},
   "outputs": [
    {
     "data": {
      "text/plain": [
       "array([[0.15044721, 0.13661728, 0.94237006, 0.99453391, 0.85331864],\n",
       "       [0.26401134, 0.10220236, 0.41150968, 0.05210204, 0.30813456],\n",
       "       [0.3675736 , 0.35231356, 0.60845246, 0.89249556, 0.42088767]])"
      ]
     },
     "execution_count": 36,
     "metadata": {},
     "output_type": "execute_result"
    }
   ],
   "source": [
    "# Create a random array of floats between 0 & 1 of shape (3, 5)\n",
    "randomArray_3 = np.random.random((3, 5))\n",
    "randomArray_3\n",
    "#np.random.random((3, 5)) – Create a 3x5 array of random floats between 0 and 1\n"
   ]
  },
  {
   "cell_type": "code",
   "execution_count": 32,
   "id": "b808f068-0005-4f27-aa09-456f826ce1a6",
   "metadata": {},
   "outputs": [
    {
     "data": {
      "text/plain": [
       "array([[0.9864325 , 0.93358313, 0.07002392, 0.64717974, 0.86540422],\n",
       "       [0.9388452 , 0.61892175, 0.05436742, 0.98135563, 0.43435618],\n",
       "       [0.32054593, 0.01787214, 0.94477563, 0.89676003, 0.37799116]])"
      ]
     },
     "execution_count": 32,
     "metadata": {},
     "output_type": "execute_result"
    }
   ],
   "source": [
    "#np.random.rand(3, 5) – Same as random.random but with a simpler syntax\n",
    "randomArray_4 = np.random.rand(3,5)\n",
    "randomArray_4"
   ]
  },
  {
   "cell_type": "code",
   "execution_count": 41,
   "id": "80018023-acbf-4fa7-b4a5-8e25eda507ba",
   "metadata": {},
   "outputs": [
    {
     "data": {
      "text/plain": [
       "array([[6, 3, 7, 4, 6, 9],\n",
       "       [2, 6, 7, 4, 3, 7],\n",
       "       [7, 2, 5, 4, 1, 7],\n",
       "       [5, 1, 4, 0, 9, 5]], dtype=int32)"
      ]
     },
     "execution_count": 41,
     "metadata": {},
     "output_type": "execute_result"
    }
   ],
   "source": [
    "# Set the random seed to 42\n",
    "# Create a random array of numbers between 0 & 10 of size (4, 6)\n",
    "np.random.seed(42)\n",
    "randomArray_5 = np.random.randint(0,10,(4,6))\n",
    "randomArray_5"
   ]
  },
  {
   "cell_type": "code",
   "execution_count": 43,
   "id": "5b0c2df9-3748-4905-aa10-b4bc2bfaeb30",
   "metadata": {},
   "outputs": [
    {
     "data": {
      "text/plain": [
       "array([[7, 4, 8, 5, 7, 3, 7],\n",
       "       [8, 5, 4, 8, 8, 3, 6],\n",
       "       [5, 2, 8, 6, 2, 5, 1]], dtype=int32)"
      ]
     },
     "execution_count": 43,
     "metadata": {},
     "output_type": "execute_result"
    }
   ],
   "source": [
    "# Create an array of random numbers between 1 & 10 of size (3, 7)\n",
    "# and save it to a variable\n",
    "# Find the unique numbers in the array you just created\n",
    "np.random.seed(42)\n",
    "randomArray_6 = np.random.randint(1,10,(3,7))\n",
    "randomArray_6 "
   ]
  },
  {
   "cell_type": "code",
   "execution_count": 44,
   "id": "53c63731-c7b6-4500-98f2-e6c035fb86d7",
   "metadata": {},
   "outputs": [
    {
     "data": {
      "text/plain": [
       "array([1, 2, 3, 4, 5, 6, 7, 8], dtype=int32)"
      ]
     },
     "execution_count": 44,
     "metadata": {},
     "output_type": "execute_result"
    }
   ],
   "source": [
    "# np.unique(array) -> function returns the sorted unique elements of the input array\n",
    "np.unique(randomArray_6)"
   ]
  },
  {
   "cell_type": "code",
   "execution_count": 53,
   "id": "b8cad491-0dce-440a-93b7-8d69d825b136",
   "metadata": {},
   "outputs": [
    {
     "name": "stdout",
     "output_type": "stream",
     "text": [
      "7\n"
     ]
    }
   ],
   "source": [
    "# Find the 0'th index of the latest array you created\n",
    "elementAtZero = randomArray_6[0][0]\n",
    "print(elementAtZero)"
   ]
  },
  {
   "cell_type": "code",
   "execution_count": 62,
   "id": "cffc7b43-9b85-45f4-9d72-99d7aa517600",
   "metadata": {},
   "outputs": [
    {
     "data": {
      "text/plain": [
       "array([[7, 4, 8, 5, 7, 3, 7],\n",
       "       [8, 5, 4, 8, 8, 3, 6]], dtype=int32)"
      ]
     },
     "execution_count": 62,
     "metadata": {},
     "output_type": "execute_result"
    }
   ],
   "source": [
    "# Get the first 2 rows of latest array you created\n",
    "#array slicing\n",
    "#array[ start_row : end_row , start_col : end_col ]\n",
    "randomArray_6[:2,:]"
   ]
  },
  {
   "cell_type": "code",
   "execution_count": 64,
   "id": "948ef85d-ad00-4a79-82ae-74663f768477",
   "metadata": {},
   "outputs": [
    {
     "data": {
      "text/plain": [
       "array([[7, 4]], dtype=int32)"
      ]
     },
     "execution_count": 64,
     "metadata": {},
     "output_type": "execute_result"
    }
   ],
   "source": [
    "# Get the first 2 values of the first 2 rows of the latest array\n",
    "randomArray_6[:1,:2]"
   ]
  },
  {
   "cell_type": "code",
   "execution_count": 65,
   "id": "49800d4e-5673-4507-8eda-7bd18d0ce56c",
   "metadata": {},
   "outputs": [],
   "source": [
    "# Create a random array of numbers between 0 & 10 and an array of ones\n",
    "# both of size (3, 5), save them both to variables\n",
    "np.random.seed(0)\n",
    "randomArray_7 = np.random.randint(0,10,(3,5))\n",
    "onesArray_2 = np.ones((3,5))"
   ]
  },
  {
   "cell_type": "code",
   "execution_count": 70,
   "id": "8ae754a3-418b-413f-b89f-47039b25ff41",
   "metadata": {},
   "outputs": [
    {
     "data": {
      "text/plain": [
       "array([[ 6.,  1.,  4.,  4.,  8.],\n",
       "       [10.,  4.,  6.,  3.,  5.],\n",
       "       [ 8.,  7.,  9.,  9.,  2.]])"
      ]
     },
     "execution_count": 70,
     "metadata": {},
     "output_type": "execute_result"
    }
   ],
   "source": [
    "# Add the two arrays together\n",
    "outputArray = randomArray_7 + onesArray_2\n",
    "outputArray"
   ]
  },
  {
   "cell_type": "code",
   "execution_count": 67,
   "id": "57415368-05e1-4d1a-9cea-9bcec361c49e",
   "metadata": {},
   "outputs": [],
   "source": [
    "# Create another array of ones of shape (5, 3)\n",
    "onesArray_3 = np.ones((5,3))"
   ]
  },
  {
   "cell_type": "code",
   "execution_count": 71,
   "id": "058ab8c7-df9b-431d-b3de-7d3a5f6b2adb",
   "metadata": {},
   "outputs": [
    {
     "ename": "ValueError",
     "evalue": "operands could not be broadcast together with shapes (3,5) (5,3) ",
     "output_type": "error",
     "traceback": [
      "\u001b[31m---------------------------------------------------------------------------\u001b[39m",
      "\u001b[31mValueError\u001b[39m                                Traceback (most recent call last)",
      "\u001b[36mCell\u001b[39m\u001b[36m \u001b[39m\u001b[32mIn[71]\u001b[39m\u001b[32m, line 2\u001b[39m\n\u001b[32m      1\u001b[39m \u001b[38;5;66;03m# Try add the array of ones and the other most recent array together\u001b[39;00m\n\u001b[32m----> \u001b[39m\u001b[32m2\u001b[39m outputArray + onesArray_3\n",
      "\u001b[31mValueError\u001b[39m: operands could not be broadcast together with shapes (3,5) (5,3) "
     ]
    }
   ],
   "source": [
    "# Try add the array of ones and the other most recent array together\n",
    "outputArray + onesArray_3"
   ]
  },
  {
   "cell_type": "code",
   "execution_count": 72,
   "id": "801199fc-bb54-4758-a06c-00204954d8dc",
   "metadata": {},
   "outputs": [
    {
     "data": {
      "text/plain": [
       "array([[ 7.,  2.,  5.,  5.,  9.],\n",
       "       [11.,  5.,  7.,  4.,  6.],\n",
       "       [ 9.,  8., 10., 10.,  3.]])"
      ]
     },
     "execution_count": 72,
     "metadata": {},
     "output_type": "execute_result"
    }
   ],
   "source": [
    "# Fix\n",
    "outputArray + onesArray_3.T"
   ]
  },
  {
   "cell_type": "code",
   "execution_count": 73,
   "id": "2e71efa3-f816-4417-b141-af24206e489f",
   "metadata": {},
   "outputs": [],
   "source": [
    "# Create another array of ones of shape (3, 5)\n",
    "onesArray_4 = np.ones((3,5))"
   ]
  },
  {
   "cell_type": "code",
   "execution_count": 74,
   "id": "e08c442f-4297-4c3f-8333-f193b9aff8f0",
   "metadata": {},
   "outputs": [
    {
     "data": {
      "text/plain": [
       "array([[5., 0., 3., 3., 7.],\n",
       "       [9., 3., 5., 2., 4.],\n",
       "       [7., 6., 8., 8., 1.]])"
      ]
     },
     "execution_count": 74,
     "metadata": {},
     "output_type": "execute_result"
    }
   ],
   "source": [
    "# Subtract the new array of ones from the other most recent array\n",
    "outputArray - onesArray_4"
   ]
  },
  {
   "cell_type": "code",
   "execution_count": 76,
   "id": "ae00d3f2-c807-4347-8312-0fae2afe4bf6",
   "metadata": {},
   "outputs": [
    {
     "data": {
      "text/plain": [
       "array([[ 6.,  1.,  4.,  4.,  8.],\n",
       "       [10.,  4.,  6.,  3.,  5.],\n",
       "       [ 8.,  7.,  9.,  9.,  2.]])"
      ]
     },
     "execution_count": 76,
     "metadata": {},
     "output_type": "execute_result"
    }
   ],
   "source": [
    "# Multiply the ones array with the latest array\n",
    "outputArray * onesArray_4"
   ]
  },
  {
   "cell_type": "code",
   "execution_count": 77,
   "id": "1071b82a-3625-4fbb-94fe-1dbf389498c9",
   "metadata": {},
   "outputs": [
    {
     "data": {
      "text/plain": [
       "array([[ 36.,   1.,  16.,  16.,  64.],\n",
       "       [100.,  16.,  36.,   9.,  25.],\n",
       "       [ 64.,  49.,  81.,  81.,   4.]])"
      ]
     },
     "execution_count": 77,
     "metadata": {},
     "output_type": "execute_result"
    }
   ],
   "source": [
    "# Take the latest array to the power of 2 using '**'\n",
    "outputArray ** 2"
   ]
  },
  {
   "cell_type": "code",
   "execution_count": 78,
   "id": "c21b677b-2ed6-4674-8199-7c61bba6b4c8",
   "metadata": {},
   "outputs": [
    {
     "data": {
      "text/plain": [
       "array([[ 36.,   1.,  16.,  16.,  64.],\n",
       "       [100.,  16.,  36.,   9.,  25.],\n",
       "       [ 64.,  49.,  81.,  81.,   4.]])"
      ]
     },
     "execution_count": 78,
     "metadata": {},
     "output_type": "execute_result"
    }
   ],
   "source": [
    "# Do the same thing with np.square()\n",
    "np.square(outputArray)"
   ]
  },
  {
   "cell_type": "code",
   "execution_count": 79,
   "id": "37dc407a-8482-4436-8c49-e3d70f135e22",
   "metadata": {},
   "outputs": [
    {
     "data": {
      "text/plain": [
       "np.float64(5.733333333333333)"
      ]
     },
     "execution_count": 79,
     "metadata": {},
     "output_type": "execute_result"
    }
   ],
   "source": [
    "# Find the mean of the latest array using np.mean()\n",
    "np.mean(outputArray)"
   ]
  },
  {
   "cell_type": "code",
   "execution_count": 80,
   "id": "a3ca4e71-52d7-41ec-8447-2b4872faac51",
   "metadata": {},
   "outputs": [
    {
     "data": {
      "text/plain": [
       "np.float64(10.0)"
      ]
     },
     "execution_count": 80,
     "metadata": {},
     "output_type": "execute_result"
    }
   ],
   "source": [
    "# Find the maximum of the latest array using np.max()\n",
    "np.max(outputArray)"
   ]
  },
  {
   "cell_type": "code",
   "execution_count": 81,
   "id": "be93a09d-63d8-47e4-91fd-4baa240452d2",
   "metadata": {},
   "outputs": [
    {
     "data": {
      "text/plain": [
       "array([[ 6.,  1.,  4.,  4.,  8.],\n",
       "       [10.,  4.,  6.,  3.,  5.],\n",
       "       [ 8.,  7.,  9.,  9.,  2.]])"
      ]
     },
     "execution_count": 81,
     "metadata": {},
     "output_type": "execute_result"
    }
   ],
   "source": [
    "outputArray"
   ]
  },
  {
   "cell_type": "code",
   "execution_count": 82,
   "id": "758de8d0-619f-4149-bf76-94c1f8181344",
   "metadata": {},
   "outputs": [
    {
     "data": {
      "text/plain": [
       "np.float64(1.0)"
      ]
     },
     "execution_count": 82,
     "metadata": {},
     "output_type": "execute_result"
    }
   ],
   "source": [
    "# Find the minimum of the latest array using np.min()\n",
    "np.min(outputArray)"
   ]
  },
  {
   "cell_type": "code",
   "execution_count": 83,
   "id": "fdbdf067-edb8-43b7-b618-cd94c6479f76",
   "metadata": {},
   "outputs": [
    {
     "data": {
      "text/plain": [
       "np.float64(2.6449112566503166)"
      ]
     },
     "execution_count": 83,
     "metadata": {},
     "output_type": "execute_result"
    }
   ],
   "source": [
    "# Find the standard deviation of the latest array\n",
    "np.std(outputArray)"
   ]
  },
  {
   "cell_type": "code",
   "execution_count": 84,
   "id": "fffffb0b-f10b-40a9-8b5a-0560afb6ff10",
   "metadata": {},
   "outputs": [
    {
     "data": {
      "text/plain": [
       "np.float64(6.995555555555556)"
      ]
     },
     "execution_count": 84,
     "metadata": {},
     "output_type": "execute_result"
    }
   ],
   "source": [
    "# Find the variance of the latest array\n",
    "np.var(outputArray)"
   ]
  },
  {
   "cell_type": "code",
   "execution_count": 87,
   "id": "3d2dd3f3-63c3-4021-8cf9-7ee0f2249e74",
   "metadata": {},
   "outputs": [
    {
     "data": {
      "text/plain": [
       "array([[[ 6.],\n",
       "        [ 1.],\n",
       "        [ 4.],\n",
       "        [ 4.],\n",
       "        [ 8.]],\n",
       "\n",
       "       [[10.],\n",
       "        [ 4.],\n",
       "        [ 6.],\n",
       "        [ 3.],\n",
       "        [ 5.]],\n",
       "\n",
       "       [[ 8.],\n",
       "        [ 7.],\n",
       "        [ 9.],\n",
       "        [ 9.],\n",
       "        [ 2.]]])"
      ]
     },
     "execution_count": 87,
     "metadata": {},
     "output_type": "execute_result"
    }
   ],
   "source": [
    "# Reshape the latest array to (3, 5, 1)\n",
    "reshapedArray = np.reshape(outputArray,(3, 5, 1))\n",
    "reshapedArray"
   ]
  },
  {
   "cell_type": "code",
   "execution_count": 88,
   "id": "e83e7150-62dc-40b1-a9ce-fc31f1099fcf",
   "metadata": {},
   "outputs": [
    {
     "data": {
      "text/plain": [
       "array([[[ 6., 10.,  8.],\n",
       "        [ 1.,  4.,  7.],\n",
       "        [ 4.,  6.,  9.],\n",
       "        [ 4.,  3.,  9.],\n",
       "        [ 8.,  5.,  2.]]])"
      ]
     },
     "execution_count": 88,
     "metadata": {},
     "output_type": "execute_result"
    }
   ],
   "source": [
    "reshapedArray.T"
   ]
  },
  {
   "cell_type": "code",
   "execution_count": 90,
   "id": "e4f46b5f-42f9-4d23-b821-247ca0737b4e",
   "metadata": {},
   "outputs": [
    {
     "data": {
      "text/plain": [
       "(array([[2, 3, 8],\n",
       "        [1, 3, 3],\n",
       "        [3, 7, 0]], dtype=int32),\n",
       " array([[1, 9],\n",
       "        [9, 0],\n",
       "        [4, 7]], dtype=int32))"
      ]
     },
     "execution_count": 90,
     "metadata": {},
     "output_type": "execute_result"
    }
   ],
   "source": [
    "# Create two arrays of random integers between 0 to 10\n",
    "# one of size (3, 3) the other of size (3, 2)\n",
    "randomArray_8 = np.random.randint(0,10,(3, 3))\n",
    "randomArray_9 = np.random.randint(0,10,(3, 2))\n",
    "randomArray_8 , randomArray_9"
   ]
  },
  {
   "cell_type": "code",
   "execution_count": 92,
   "id": "ea1ad973-798e-4e12-becd-97c9acdf0d28",
   "metadata": {},
   "outputs": [
    {
     "data": {
      "text/plain": [
       "array([[61, 74],\n",
       "       [40, 30],\n",
       "       [66, 27]], dtype=int32)"
      ]
     },
     "execution_count": 92,
     "metadata": {},
     "output_type": "execute_result"
    }
   ],
   "source": [
    "# Perform a dot product on the two newest arrays you created\n",
    "np.dot(randomArray_8,randomArray_9)"
   ]
  },
  {
   "cell_type": "code",
   "execution_count": 93,
   "id": "b7a04161-71e2-4b76-a17c-3bc6238c4165",
   "metadata": {},
   "outputs": [
    {
     "data": {
      "text/plain": [
       "(array([[3, 2, 7],\n",
       "        [2, 0, 0],\n",
       "        [4, 5, 5],\n",
       "        [6, 8, 4]], dtype=int32),\n",
       " array([[1, 4, 9],\n",
       "        [8, 1, 1],\n",
       "        [7, 9, 9],\n",
       "        [3, 6, 7]], dtype=int32))"
      ]
     },
     "execution_count": 93,
     "metadata": {},
     "output_type": "execute_result"
    }
   ],
   "source": [
    "# Create two arrays of random integers between 0 to 10\n",
    "# both of size (4, 3)\n",
    "randomArray_10 =  np.random.randint(0,10,(4, 3))\n",
    "randomArray_11 =  np.random.randint(0,10,(4, 3))\n",
    "randomArray_10 , randomArray_11"
   ]
  },
  {
   "cell_type": "code",
   "execution_count": 94,
   "id": "2c2f3ca1-f0d3-4f56-9b3e-a38da371fb2e",
   "metadata": {},
   "outputs": [
    {
     "ename": "ValueError",
     "evalue": "shapes (4,3) and (4,3) not aligned: 3 (dim 1) != 4 (dim 0)",
     "output_type": "error",
     "traceback": [
      "\u001b[31m---------------------------------------------------------------------------\u001b[39m",
      "\u001b[31mValueError\u001b[39m                                Traceback (most recent call last)",
      "\u001b[36mCell\u001b[39m\u001b[36m \u001b[39m\u001b[32mIn[94]\u001b[39m\u001b[32m, line 2\u001b[39m\n\u001b[32m      1\u001b[39m \u001b[38;5;66;03m# Perform a dot product on the two newest arrays you created\u001b[39;00m\n\u001b[32m----> \u001b[39m\u001b[32m2\u001b[39m np.dot(randomArray_10,randomArray_11)\n",
      "\u001b[31mValueError\u001b[39m: shapes (4,3) and (4,3) not aligned: 3 (dim 1) != 4 (dim 0)"
     ]
    }
   ],
   "source": [
    "# Perform a dot product on the two newest arrays you created\n",
    "np.dot(randomArray_10,randomArray_11)"
   ]
  },
  {
   "cell_type": "code",
   "execution_count": 96,
   "id": "b5b9211b-18a2-46e7-bf51-525878e4c713",
   "metadata": {},
   "outputs": [
    {
     "data": {
      "text/plain": [
       "array([[ 74,  33, 102,  70],\n",
       "       [  2,  16,  14,   6],\n",
       "       [ 69,  42, 118,  77],\n",
       "       [ 74,  60, 150,  94]], dtype=int32)"
      ]
     },
     "execution_count": 96,
     "metadata": {},
     "output_type": "execute_result"
    }
   ],
   "source": [
    "#Fix\n",
    "# Take the latest two arrays, perform a transpose on one of them and then perform \n",
    "# a dot product on them both\n",
    "np.dot(randomArray_10,randomArray_11.T)"
   ]
  },
  {
   "cell_type": "code",
   "execution_count": 97,
   "id": "73480f17-451b-45a1-8f33-ebff62d961b0",
   "metadata": {},
   "outputs": [
    {
     "data": {
      "text/plain": [
       "array([[False,  True,  True],\n",
       "       [ True,  True,  True],\n",
       "       [ True,  True,  True],\n",
       "       [False, False,  True]])"
      ]
     },
     "execution_count": 97,
     "metadata": {},
     "output_type": "execute_result"
    }
   ],
   "source": [
    "# Compare the two latest arrays with '>'\n",
    "randomArray_11 > randomArray_10"
   ]
  },
  {
   "cell_type": "code",
   "execution_count": 98,
   "id": "b3e2cd2b-f73e-47e8-8625-44cdb865331c",
   "metadata": {},
   "outputs": [
    {
     "data": {
      "text/plain": [
       "array([[False,  True,  True],\n",
       "       [ True,  True,  True],\n",
       "       [ True,  True,  True],\n",
       "       [False, False,  True]])"
      ]
     },
     "execution_count": 98,
     "metadata": {},
     "output_type": "execute_result"
    }
   ],
   "source": [
    "# Compare the two arrays with '>='\n",
    "randomArray_11 >= randomArray_10"
   ]
  },
  {
   "cell_type": "code",
   "execution_count": 99,
   "id": "3f0081b2-bc83-4a52-8d34-2c6ab678cab7",
   "metadata": {},
   "outputs": [
    {
     "data": {
      "text/plain": [
       "array([[False, False, False],\n",
       "       [False, False, False],\n",
       "       [False, False, False],\n",
       "       [False,  True, False]])"
      ]
     },
     "execution_count": 99,
     "metadata": {},
     "output_type": "execute_result"
    }
   ],
   "source": [
    "# Find which elements of the first array are greater than 7\n",
    "randomArray_10 > 7"
   ]
  },
  {
   "cell_type": "code",
   "execution_count": 100,
   "id": "7d9e227e-eb6c-4303-a4a5-e3e2891592fc",
   "metadata": {},
   "outputs": [
    {
     "data": {
      "text/plain": [
       "array([[False, False, False],\n",
       "       [False, False, False],\n",
       "       [False, False, False],\n",
       "       [False, False, False]])"
      ]
     },
     "execution_count": 100,
     "metadata": {},
     "output_type": "execute_result"
    }
   ],
   "source": [
    "# Which parts of each array are equal? (try using '==')\n",
    "randomArray_11 == randomArray_10"
   ]
  },
  {
   "cell_type": "code",
   "execution_count": 108,
   "id": "bc379cf9-8d94-4ee3-905d-2fb966f2bfce",
   "metadata": {},
   "outputs": [
    {
     "data": {
      "text/plain": [
       "array([[2, 3, 7],\n",
       "       [0, 0, 2],\n",
       "       [4, 5, 5],\n",
       "       [4, 6, 8]], dtype=int32)"
      ]
     },
     "execution_count": 108,
     "metadata": {},
     "output_type": "execute_result"
    }
   ],
   "source": [
    "# Sort one of the arrays you just created in ascending order\n",
    "#axis parameter:\n",
    "#This parameter allows specifying the axis along which to sort.\n",
    "#axis=None: Flattens the array and sorts all elements.\n",
    "#axis=0: Sorts along the columns.\n",
    "#axis=1: Sorts along the rows (default for 2D arrays).\n",
    "sortedArray = np.sort(randomArray_10)\n",
    "sortedArray"
   ]
  },
  {
   "cell_type": "code",
   "execution_count": 109,
   "id": "f6bf4655-ebce-45f9-959a-98f54ea7455d",
   "metadata": {},
   "outputs": [
    {
     "data": {
      "text/plain": [
       "array([[1, 4, 9],\n",
       "       [8, 1, 1],\n",
       "       [7, 9, 9],\n",
       "       [3, 6, 7]], dtype=int32)"
      ]
     },
     "execution_count": 109,
     "metadata": {},
     "output_type": "execute_result"
    }
   ],
   "source": [
    "# Sort the indexes of one of the arrays you just created\n",
    "np.argsort(randomArray_11)"
   ]
  },
  {
   "cell_type": "code",
   "execution_count": 110,
   "id": "583eb6ea-991f-4ed1-a4f8-7015b345f313",
   "metadata": {},
   "outputs": [
    {
     "data": {
      "text/plain": [
       "array([[1, 4, 9],\n",
       "       [8, 1, 1],\n",
       "       [7, 9, 9],\n",
       "       [3, 6, 7]], dtype=int32)"
      ]
     },
     "execution_count": 110,
     "metadata": {},
     "output_type": "execute_result"
    }
   ],
   "source": [
    "randomArray_11"
   ]
  },
  {
   "cell_type": "code",
   "execution_count": 111,
   "id": "42217725-8ec7-4420-9f78-ec3d931d37eb",
   "metadata": {},
   "outputs": [
    {
     "data": {
      "text/plain": [
       "array([[0, 1, 2],\n",
       "       [1, 2, 0],\n",
       "       [0, 1, 2],\n",
       "       [0, 1, 2]])"
      ]
     },
     "execution_count": 111,
     "metadata": {},
     "output_type": "execute_result"
    }
   ],
   "source": [
    "# Sort the indexes of one of the arrays you just created\n",
    "np.argsort(randomArray_11)"
   ]
  },
  {
   "cell_type": "code",
   "execution_count": 113,
   "id": "fd07167e-0e75-4f78-a3d8-0621f6357b87",
   "metadata": {},
   "outputs": [
    {
     "data": {
      "text/plain": [
       "np.int64(2)"
      ]
     },
     "execution_count": 113,
     "metadata": {},
     "output_type": "execute_result"
    }
   ],
   "source": [
    "# Find the index with the maximum value in one of the arrays you've created\n",
    "#np.argmax with no axis flattens the array and returns the index in the flattened version.\n",
    "np.argmax(randomArray_11)"
   ]
  },
  {
   "cell_type": "code",
   "execution_count": 114,
   "id": "c9a2e8fc-7233-4747-b886-05ab59b0ef3a",
   "metadata": {},
   "outputs": [
    {
     "data": {
      "text/plain": [
       "np.int64(3)"
      ]
     },
     "execution_count": 114,
     "metadata": {},
     "output_type": "execute_result"
    }
   ],
   "source": [
    "# Find the index with the minimum value in one of the arrays you've created\n",
    "np.argmin(sortedArray)"
   ]
  },
  {
   "cell_type": "code",
   "execution_count": 115,
   "id": "d2a8d699-bcb6-45c1-a6f7-c16d5d3de034",
   "metadata": {},
   "outputs": [
    {
     "data": {
      "text/plain": [
       "array([2, 0, 1, 2])"
      ]
     },
     "execution_count": 115,
     "metadata": {},
     "output_type": "execute_result"
    }
   ],
   "source": [
    "# Find the indexes with the maximum values down the 1st axis (axis=1)\n",
    "# of one of the arrays you created\n",
    "np.argmax(randomArray_11,axis=1)"
   ]
  },
  {
   "cell_type": "code",
   "execution_count": 117,
   "id": "02f0fa9d-d0cf-4c27-8e27-b611be209b77",
   "metadata": {},
   "outputs": [
    {
     "data": {
      "text/plain": [
       "array([0, 1, 1])"
      ]
     },
     "execution_count": 117,
     "metadata": {},
     "output_type": "execute_result"
    }
   ],
   "source": [
    "# Find the indexes with the minimum values across the 0th axis (axis=0)\n",
    "# of one of the arrays you created\n",
    "np.argmin(randomArray_11,axis=0)"
   ]
  },
  {
   "cell_type": "code",
   "execution_count": 123,
   "id": "2f86dfd6-7772-460f-8a5b-7580bdc337c8",
   "metadata": {},
   "outputs": [
    {
     "data": {
      "text/plain": [
       "array([  1.,  12.,  23.,  34.,  45.,  56.,  67.,  78.,  89., 100.])"
      ]
     },
     "execution_count": 123,
     "metadata": {},
     "output_type": "execute_result"
    }
   ],
   "source": [
    "# Create an array with 10 evenly spaced numbers between 1 and 100\n",
    "#linespace() -> generates an array of evenly spaced numbers over a defined interval\n",
    "randomArray_12 = np.linspace(1, 100, 10)\n",
    "randomArray_12"
   ]
  },
  {
   "cell_type": "code",
   "execution_count": 121,
   "id": "0b6521a1-66ec-4f4d-8521-efad60769f95",
   "metadata": {},
   "outputs": [
    {
     "data": {
      "text/plain": [
       "array([[-0.45688133, -1.05997576,  0.61495732,  1.42966077],\n",
       "       [-0.21195226, -0.08033726,  0.40539778,  0.11860659],\n",
       "       [ 1.25441407,  1.41910204, -0.74385608, -2.5174371 ]])"
      ]
     },
     "execution_count": 121,
     "metadata": {},
     "output_type": "execute_result"
    }
   ],
   "source": [
    "# Create an array of normally distributed random numbers\n",
    "randomArray_13 = np.random.randn(3, 4)\n",
    "randomArray_13"
   ]
  },
  {
   "cell_type": "code",
   "execution_count": null,
   "id": "a1343bc0-f321-45e3-bae1-f17605b2b512",
   "metadata": {},
   "outputs": [],
   "source": []
  }
 ],
 "metadata": {
  "kernelspec": {
   "display_name": "Python 3 (ipykernel)",
   "language": "python",
   "name": "python3"
  },
  "language_info": {
   "codemirror_mode": {
    "name": "ipython",
    "version": 3
   },
   "file_extension": ".py",
   "mimetype": "text/x-python",
   "name": "python",
   "nbconvert_exporter": "python",
   "pygments_lexer": "ipython3",
   "version": "3.13.5"
  }
 },
 "nbformat": 4,
 "nbformat_minor": 5
}
