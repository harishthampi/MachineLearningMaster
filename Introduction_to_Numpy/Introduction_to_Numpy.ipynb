{
 "cells": [
  {
   "cell_type": "code",
   "execution_count": 67,
   "id": "8ae2ed6a-0be3-4885-ab86-b2b200b93280",
   "metadata": {},
   "outputs": [],
   "source": [
    "import numpy as np\n",
    "import pandas as pd\n",
    "import matplotlib as plt"
   ]
  },
  {
   "cell_type": "markdown",
   "id": "6fb0a250-a083-4aac-866a-c33b74093ca1",
   "metadata": {},
   "source": [
    "## 1.DataType & Attributes"
   ]
  },
  {
   "cell_type": "code",
   "execution_count": 4,
   "id": "314a9141-fe2b-4fb3-9789-d90250e9b646",
   "metadata": {},
   "outputs": [
    {
     "data": {
      "text/plain": [
       "array([1, 2, 3])"
      ]
     },
     "execution_count": 4,
     "metadata": {},
     "output_type": "execute_result"
    }
   ],
   "source": [
    "# Numpy's main datatype is ndarray\n",
    "a1 = np.array([1,2,3])\n",
    "a1"
   ]
  },
  {
   "cell_type": "code",
   "execution_count": 5,
   "id": "6ea19d44-6ea4-43bf-aa8f-0deed124ae15",
   "metadata": {},
   "outputs": [
    {
     "data": {
      "text/plain": [
       "numpy.ndarray"
      ]
     },
     "execution_count": 5,
     "metadata": {},
     "output_type": "execute_result"
    }
   ],
   "source": [
    "type(a1)"
   ]
  },
  {
   "cell_type": "code",
   "execution_count": 9,
   "id": "4913767b-3499-40d6-8985-507cd3384381",
   "metadata": {},
   "outputs": [
    {
     "data": {
      "text/plain": [
       "array([[1.  , 2.  , 3.3 ],\n",
       "       [4.  , 5.76, 3.  ]])"
      ]
     },
     "execution_count": 9,
     "metadata": {},
     "output_type": "execute_result"
    }
   ],
   "source": [
    "a2 = np.array([[1,2,3.3],[4,5.76,3]])\n",
    "a2"
   ]
  },
  {
   "cell_type": "code",
   "execution_count": 11,
   "id": "02843e71-1673-4c73-bf1b-e22558debf2c",
   "metadata": {},
   "outputs": [
    {
     "data": {
      "text/plain": [
       "(2, 3)"
      ]
     },
     "execution_count": 11,
     "metadata": {},
     "output_type": "execute_result"
    }
   ],
   "source": [
    "a1.shape \n",
    "a2.shape"
   ]
  },
  {
   "cell_type": "code",
   "execution_count": 12,
   "id": "153355ef-5607-4472-9203-ddcc88f77f2c",
   "metadata": {},
   "outputs": [
    {
     "data": {
      "text/plain": [
       "(3,)"
      ]
     },
     "execution_count": 12,
     "metadata": {},
     "output_type": "execute_result"
    }
   ],
   "source": [
    "a1.shape "
   ]
  },
  {
   "cell_type": "code",
   "execution_count": 16,
   "id": "96a7b446-af04-40de-a177-cbfc1a353cbf",
   "metadata": {},
   "outputs": [
    {
     "data": {
      "text/plain": [
       "(1, 2, 3)"
      ]
     },
     "execution_count": 16,
     "metadata": {},
     "output_type": "execute_result"
    }
   ],
   "source": [
    "a3 = np.array([[[1, 2, 3],\n",
    "                [4, 5, 6],\n",
    "                [7, 8, 9]],\n",
    "                [[10, 11, 12],\n",
    "                 [13, 14, 15],\n",
    "                 [16, 17, 18]]])\n",
    "a1.ndim, a2.ndim, a3.ndim"
   ]
  },
  {
   "cell_type": "code",
   "execution_count": 17,
   "id": "abb4e8cc-c4ce-435b-9142-a28073f4e063",
   "metadata": {},
   "outputs": [
    {
     "ename": "NameError",
     "evalue": "name 'A1' is not defined",
     "output_type": "error",
     "traceback": [
      "\u001b[31m---------------------------------------------------------------------------\u001b[39m",
      "\u001b[31mNameError\u001b[39m                                 Traceback (most recent call last)",
      "\u001b[36mCell\u001b[39m\u001b[36m \u001b[39m\u001b[32mIn[17]\u001b[39m\u001b[32m, line 1\u001b[39m\n\u001b[32m----> \u001b[39m\u001b[32m1\u001b[39m A1.DTYPE\n",
      "\u001b[31mNameError\u001b[39m: name 'A1' is not defined"
     ]
    }
   ],
   "source": [
    "A1.DTYPE"
   ]
  },
  {
   "cell_type": "code",
   "execution_count": 18,
   "id": "be3e30e0-3998-410b-9dfd-6eac1ce9d7c5",
   "metadata": {},
   "outputs": [
    {
     "data": {
      "text/plain": [
       "dtype('int64')"
      ]
     },
     "execution_count": 18,
     "metadata": {},
     "output_type": "execute_result"
    }
   ],
   "source": [
    "a1.dtype"
   ]
  },
  {
   "cell_type": "code",
   "execution_count": 19,
   "id": "5407159a-39e5-4c46-b1a9-d3bd48f8eb11",
   "metadata": {},
   "outputs": [
    {
     "data": {
      "text/plain": [
       "dtype('float64')"
      ]
     },
     "execution_count": 19,
     "metadata": {},
     "output_type": "execute_result"
    }
   ],
   "source": [
    "a2.dtype"
   ]
  },
  {
   "cell_type": "code",
   "execution_count": 20,
   "id": "2d61cead-9f7b-479f-b586-65b314a0986a",
   "metadata": {},
   "outputs": [
    {
     "data": {
      "text/plain": [
       "(3, 6, 18)"
      ]
     },
     "execution_count": 20,
     "metadata": {},
     "output_type": "execute_result"
    }
   ],
   "source": [
    "a1.size,a2.size,a3.size"
   ]
  },
  {
   "cell_type": "code",
   "execution_count": 23,
   "id": "96717013-293a-4113-b9a5-52debf512306",
   "metadata": {},
   "outputs": [
    {
     "data": {
      "text/html": [
       "<div>\n",
       "<style scoped>\n",
       "    .dataframe tbody tr th:only-of-type {\n",
       "        vertical-align: middle;\n",
       "    }\n",
       "\n",
       "    .dataframe tbody tr th {\n",
       "        vertical-align: top;\n",
       "    }\n",
       "\n",
       "    .dataframe thead th {\n",
       "        text-align: right;\n",
       "    }\n",
       "</style>\n",
       "<table border=\"1\" class=\"dataframe\">\n",
       "  <thead>\n",
       "    <tr style=\"text-align: right;\">\n",
       "      <th></th>\n",
       "      <th>0</th>\n",
       "      <th>1</th>\n",
       "      <th>2</th>\n",
       "    </tr>\n",
       "  </thead>\n",
       "  <tbody>\n",
       "    <tr>\n",
       "      <th>0</th>\n",
       "      <td>1.0</td>\n",
       "      <td>2.00</td>\n",
       "      <td>3.3</td>\n",
       "    </tr>\n",
       "    <tr>\n",
       "      <th>1</th>\n",
       "      <td>4.0</td>\n",
       "      <td>5.76</td>\n",
       "      <td>3.0</td>\n",
       "    </tr>\n",
       "  </tbody>\n",
       "</table>\n",
       "</div>"
      ],
      "text/plain": [
       "     0     1    2\n",
       "0  1.0  2.00  3.3\n",
       "1  4.0  5.76  3.0"
      ]
     },
     "execution_count": 23,
     "metadata": {},
     "output_type": "execute_result"
    }
   ],
   "source": [
    "#Create a DataFrame from NumPy array\n",
    "import pandas as pd\n",
    "df = pd.DataFrame(a2)\n",
    "df"
   ]
  },
  {
   "cell_type": "code",
   "execution_count": 24,
   "id": "438518c3-dd17-41b2-9adf-844c5094a186",
   "metadata": {},
   "outputs": [
    {
     "data": {
      "text/plain": [
       "array([[1.  , 2.  , 3.3 ],\n",
       "       [4.  , 5.76, 3.  ]])"
      ]
     },
     "execution_count": 24,
     "metadata": {},
     "output_type": "execute_result"
    }
   ],
   "source": [
    "a2"
   ]
  },
  {
   "cell_type": "markdown",
   "id": "0be2f10e-e33c-461f-87ac-a59e49b7d063",
   "metadata": {},
   "source": [
    "## 2.Creating arrays"
   ]
  },
  {
   "cell_type": "code",
   "execution_count": 25,
   "id": "8a253e67-1e2a-422c-9ead-cda6ff4c9f79",
   "metadata": {},
   "outputs": [],
   "source": [
    "sample_array = np.array([1,2.0,3,4])"
   ]
  },
  {
   "cell_type": "code",
   "execution_count": 26,
   "id": "88af9c06-3ebc-4411-99a9-d558336f84a9",
   "metadata": {},
   "outputs": [
    {
     "data": {
      "text/plain": [
       "array([1., 2., 3., 4.])"
      ]
     },
     "execution_count": 26,
     "metadata": {},
     "output_type": "execute_result"
    }
   ],
   "source": [
    "sample_array"
   ]
  },
  {
   "cell_type": "code",
   "execution_count": 27,
   "id": "d00e0dff-74c9-4fae-a6b4-097beac010c3",
   "metadata": {},
   "outputs": [
    {
     "data": {
      "text/plain": [
       "array([[1., 1., 1.],\n",
       "       [1., 1., 1.]])"
      ]
     },
     "execution_count": 27,
     "metadata": {},
     "output_type": "execute_result"
    }
   ],
   "source": [
    "ones = np.ones((2,3))\n",
    "ones"
   ]
  },
  {
   "cell_type": "code",
   "execution_count": 29,
   "id": "51001830-eeab-4acf-b8c5-cc37980a22b7",
   "metadata": {},
   "outputs": [
    {
     "data": {
      "text/plain": [
       "numpy.ndarray"
      ]
     },
     "execution_count": 29,
     "metadata": {},
     "output_type": "execute_result"
    }
   ],
   "source": [
    "type(ones)"
   ]
  },
  {
   "cell_type": "code",
   "execution_count": 30,
   "id": "19e3c504-61e9-464a-926b-9c72d624cd86",
   "metadata": {},
   "outputs": [
    {
     "data": {
      "text/plain": [
       "6"
      ]
     },
     "execution_count": 30,
     "metadata": {},
     "output_type": "execute_result"
    }
   ],
   "source": [
    "ones.size"
   ]
  },
  {
   "cell_type": "code",
   "execution_count": 31,
   "id": "194a9583-b046-4873-a3ec-146bb74fce96",
   "metadata": {},
   "outputs": [
    {
     "data": {
      "text/plain": [
       "(2, 3)"
      ]
     },
     "execution_count": 31,
     "metadata": {},
     "output_type": "execute_result"
    }
   ],
   "source": [
    "ones.shape"
   ]
  },
  {
   "cell_type": "code",
   "execution_count": 32,
   "id": "ed67ad13-d999-4faf-984c-90de340b25cb",
   "metadata": {},
   "outputs": [
    {
     "data": {
      "text/plain": [
       "array([[0., 0., 0.],\n",
       "       [0., 0., 0.]])"
      ]
     },
     "execution_count": 32,
     "metadata": {},
     "output_type": "execute_result"
    }
   ],
   "source": [
    "zeros = np.zeros((2,3))\n",
    "zeros"
   ]
  },
  {
   "cell_type": "code",
   "execution_count": 33,
   "id": "447c4b39-8447-4e0a-b267-d6d8b94edb02",
   "metadata": {},
   "outputs": [
    {
     "data": {
      "text/plain": [
       "6"
      ]
     },
     "execution_count": 33,
     "metadata": {},
     "output_type": "execute_result"
    }
   ],
   "source": [
    "zeros.size"
   ]
  },
  {
   "cell_type": "code",
   "execution_count": 36,
   "id": "cbc22593-d7fb-4925-b227-80e4a78ca5f2",
   "metadata": {},
   "outputs": [
    {
     "data": {
      "text/plain": [
       "array([[7, 5, 6, 4],\n",
       "       [3, 6, 9, 6],\n",
       "       [1, 7, 4, 0],\n",
       "       [3, 1, 0, 2],\n",
       "       [4, 2, 9, 1]], dtype=int32)"
      ]
     },
     "execution_count": 36,
     "metadata": {},
     "output_type": "execute_result"
    }
   ],
   "source": [
    "random_array = np.random.randint(0,10,(5,4))\n",
    "random_array"
   ]
  },
  {
   "cell_type": "code",
   "execution_count": 37,
   "id": "5392515f-05eb-468d-b3a8-bf6e3d3d1d8a",
   "metadata": {},
   "outputs": [
    {
     "data": {
      "text/plain": [
       "array([[0.02682107, 0.56012584, 0.52889649, 0.77613325],\n",
       "       [0.29328646, 0.97002231, 0.58726066, 0.35992052],\n",
       "       [0.35961602, 0.36006946, 0.66343133, 0.81398923],\n",
       "       [0.08786104, 0.43871112, 0.89324745, 0.31773788],\n",
       "       [0.69459548, 0.86462257, 0.98058419, 0.87458222]])"
      ]
     },
     "execution_count": 37,
     "metadata": {},
     "output_type": "execute_result"
    }
   ],
   "source": [
    "random_array_2 = np.random.random((5,4))\n",
    "random_array_2"
   ]
  },
  {
   "cell_type": "code",
   "execution_count": 39,
   "id": "4006bc67-44a2-4ed8-9231-aaf4aaa7388c",
   "metadata": {},
   "outputs": [
    {
     "data": {
      "text/plain": [
       "array([[0.09147246, 0.98133705, 0.81339603, 0.5029136 ],\n",
       "       [0.72979831, 0.22696545, 0.8834642 , 0.71254644],\n",
       "       [0.85879603, 0.76888   , 0.19060163, 0.69860918],\n",
       "       [0.36473275, 0.63230506, 0.47213238, 0.63142669],\n",
       "       [0.02754865, 0.12195972, 0.98228256, 0.17062708]])"
      ]
     },
     "execution_count": 39,
     "metadata": {},
     "output_type": "execute_result"
    }
   ],
   "source": [
    "random_array_3 = np.random.rand(5,4)\n",
    "random_array_3"
   ]
  },
  {
   "cell_type": "code",
   "execution_count": 40,
   "id": "0eec1406-6231-44fa-a447-2ea6156eb944",
   "metadata": {},
   "outputs": [
    {
     "data": {
      "text/plain": [
       "array([ 0,  2,  4,  6,  8, 10, 12, 14])"
      ]
     },
     "execution_count": 40,
     "metadata": {},
     "output_type": "execute_result"
    }
   ],
   "source": [
    "range_array = np.arange(0,15,2)\n",
    "range_array"
   ]
  },
  {
   "cell_type": "code",
   "execution_count": 46,
   "id": "df9b328c-c2a6-4bf8-8447-b446da124348",
   "metadata": {},
   "outputs": [
    {
     "data": {
      "text/plain": [
       "array([[5, 0, 3, 3],\n",
       "       [7, 9, 3, 5],\n",
       "       [2, 4, 7, 6],\n",
       "       [8, 8, 1, 6],\n",
       "       [7, 7, 8, 1]], dtype=int32)"
      ]
     },
     "execution_count": 46,
     "metadata": {},
     "output_type": "execute_result"
    }
   ],
   "source": [
    "# Pseudo-random numbers\n",
    "np.random.seed(0)\n",
    "random_array_4 = np.random.randint(0,10,(5,4))\n",
    "random_array_4"
   ]
  },
  {
   "cell_type": "code",
   "execution_count": 44,
   "id": "86406a33-18bb-4e87-99b1-b96dc32d7275",
   "metadata": {},
   "outputs": [
    {
     "data": {
      "text/plain": [
       "(5, 4)"
      ]
     },
     "execution_count": 44,
     "metadata": {},
     "output_type": "execute_result"
    }
   ],
   "source": [
    "random_array_4.shape"
   ]
  },
  {
   "cell_type": "code",
   "execution_count": 50,
   "id": "6c19d62b-afc8-4d87-83da-1b47d7cc568a",
   "metadata": {},
   "outputs": [
    {
     "data": {
      "text/plain": [
       "array([[0.5488135 , 0.71518937, 0.60276338, 0.54488318],\n",
       "       [0.4236548 , 0.64589411, 0.43758721, 0.891773  ],\n",
       "       [0.96366276, 0.38344152, 0.79172504, 0.52889492],\n",
       "       [0.56804456, 0.92559664, 0.07103606, 0.0871293 ],\n",
       "       [0.0202184 , 0.83261985, 0.77815675, 0.87001215]])"
      ]
     },
     "execution_count": 50,
     "metadata": {},
     "output_type": "execute_result"
    }
   ],
   "source": [
    "np.random.seed(0)\n",
    "random_array_5 = np.random.random((5,4))\n",
    "random_array_5"
   ]
  },
  {
   "cell_type": "code",
   "execution_count": 51,
   "id": "86a94d8a-d158-4694-a4e0-c7afa3387cff",
   "metadata": {},
   "outputs": [
    {
     "data": {
      "text/plain": [
       "array([0, 1, 2, 3, 4, 5, 6, 7, 8, 9], dtype=int32)"
      ]
     },
     "execution_count": 51,
     "metadata": {},
     "output_type": "execute_result"
    }
   ],
   "source": [
    "unique_arrayNumbers = np.unique(random_array_4)\n",
    "unique_arrayNumbers"
   ]
  },
  {
   "cell_type": "code",
   "execution_count": 53,
   "id": "6524fc66-b3c3-42c0-8fcf-ec48bdd767ec",
   "metadata": {},
   "outputs": [
    {
     "data": {
      "text/plain": [
       "array([1, 2])"
      ]
     },
     "execution_count": 53,
     "metadata": {},
     "output_type": "execute_result"
    }
   ],
   "source": [
    "unique_arrayNumbers_1 = np.unique([1,1,1,2,2,2])\n",
    "unique_arrayNumbers_1"
   ]
  },
  {
   "cell_type": "markdown",
   "id": "1b2ea86f-c73b-4477-93f7-495a8fef84b0",
   "metadata": {},
   "source": [
    "# 3.Viewing Arrays and Matrices"
   ]
  },
  {
   "cell_type": "code",
   "execution_count": 54,
   "id": "58ab9e1e-17c2-4d69-8793-c24bac1ba970",
   "metadata": {},
   "outputs": [
    {
     "data": {
      "text/plain": [
       "array([1, 2, 3])"
      ]
     },
     "execution_count": 54,
     "metadata": {},
     "output_type": "execute_result"
    }
   ],
   "source": [
    "a1\n"
   ]
  },
  {
   "cell_type": "code",
   "execution_count": 55,
   "id": "a49f55d7-1721-47b5-b761-9217eca2993d",
   "metadata": {},
   "outputs": [
    {
     "data": {
      "text/plain": [
       "np.int64(1)"
      ]
     },
     "execution_count": 55,
     "metadata": {},
     "output_type": "execute_result"
    }
   ],
   "source": [
    "a1[0]\n"
   ]
  },
  {
   "cell_type": "code",
   "execution_count": 56,
   "id": "b0585fce-cfde-4588-b3ba-aac83c6db153",
   "metadata": {},
   "outputs": [
    {
     "data": {
      "text/plain": [
       "array([[1.  , 2.  , 3.3 ],\n",
       "       [4.  , 5.76, 3.  ]])"
      ]
     },
     "execution_count": 56,
     "metadata": {},
     "output_type": "execute_result"
    }
   ],
   "source": [
    "a2"
   ]
  },
  {
   "cell_type": "code",
   "execution_count": 58,
   "id": "a5e147e6-4000-44ea-9167-05596fe64916",
   "metadata": {},
   "outputs": [
    {
     "data": {
      "text/plain": [
       "array([4.  , 5.76, 3.  ])"
      ]
     },
     "execution_count": 58,
     "metadata": {},
     "output_type": "execute_result"
    }
   ],
   "source": [
    "a2[1]"
   ]
  },
  {
   "cell_type": "code",
   "execution_count": 59,
   "id": "fee76ae1-7d43-4e44-ad51-269d4bd420d1",
   "metadata": {},
   "outputs": [
    {
     "data": {
      "text/plain": [
       "np.float64(3.0)"
      ]
     },
     "execution_count": 59,
     "metadata": {},
     "output_type": "execute_result"
    }
   ],
   "source": [
    "a2[1][2]"
   ]
  },
  {
   "cell_type": "code",
   "execution_count": 60,
   "id": "4ef8a669-4446-4bbe-8b51-b08589b5a971",
   "metadata": {},
   "outputs": [
    {
     "data": {
      "text/plain": [
       "array([[[ 1,  2,  3],\n",
       "        [ 4,  5,  6],\n",
       "        [ 7,  8,  9]],\n",
       "\n",
       "       [[10, 11, 12],\n",
       "        [13, 14, 15],\n",
       "        [16, 17, 18]]])"
      ]
     },
     "execution_count": 60,
     "metadata": {},
     "output_type": "execute_result"
    }
   ],
   "source": [
    "a3\n"
   ]
  },
  {
   "cell_type": "code",
   "execution_count": 61,
   "id": "a3381c54-312b-451a-9d17-96c6ef5468fe",
   "metadata": {},
   "outputs": [
    {
     "data": {
      "text/plain": [
       "array([[10, 11, 12],\n",
       "       [13, 14, 15],\n",
       "       [16, 17, 18]])"
      ]
     },
     "execution_count": 61,
     "metadata": {},
     "output_type": "execute_result"
    }
   ],
   "source": [
    "a3[1]"
   ]
  },
  {
   "cell_type": "code",
   "execution_count": 62,
   "id": "e0caf791-6356-43e8-babc-565e211c7660",
   "metadata": {},
   "outputs": [
    {
     "data": {
      "text/plain": [
       "array([10, 11, 12])"
      ]
     },
     "execution_count": 62,
     "metadata": {},
     "output_type": "execute_result"
    }
   ],
   "source": [
    "a3[1][0]"
   ]
  },
  {
   "cell_type": "code",
   "execution_count": 63,
   "id": "64f9835b-e5c3-4608-8b41-00df20032d20",
   "metadata": {},
   "outputs": [
    {
     "data": {
      "text/plain": [
       "np.int64(11)"
      ]
     },
     "execution_count": 63,
     "metadata": {},
     "output_type": "execute_result"
    }
   ],
   "source": [
    "a3[1][0][1]"
   ]
  },
  {
   "cell_type": "code",
   "execution_count": 64,
   "id": "549683c2-d96a-4533-9993-88d30a8e5c82",
   "metadata": {},
   "outputs": [
    {
     "data": {
      "text/plain": [
       "array([[[ 1,  2],\n",
       "        [ 4,  5]],\n",
       "\n",
       "       [[10, 11],\n",
       "        [13, 14]]])"
      ]
     },
     "execution_count": 64,
     "metadata": {},
     "output_type": "execute_result"
    }
   ],
   "source": [
    "a3[:2,:2,:2]"
   ]
  },
  {
   "cell_type": "code",
   "execution_count": 65,
   "id": "194eef0b-ba7e-45d1-93de-1941d577d851",
   "metadata": {},
   "outputs": [
    {
     "data": {
      "text/plain": [
       "array([[[[2, 3, 8, 1, 3],\n",
       "         [3, 3, 7, 0, 1],\n",
       "         [9, 9, 0, 4, 7],\n",
       "         [3, 2, 7, 2, 0]],\n",
       "\n",
       "        [[0, 4, 5, 5, 6],\n",
       "         [8, 4, 1, 4, 9],\n",
       "         [8, 1, 1, 7, 9],\n",
       "         [9, 3, 6, 7, 2]],\n",
       "\n",
       "        [[0, 3, 5, 9, 4],\n",
       "         [4, 6, 4, 4, 3],\n",
       "         [4, 4, 8, 4, 3],\n",
       "         [7, 5, 5, 0, 1]]],\n",
       "\n",
       "\n",
       "       [[[5, 9, 3, 0, 5],\n",
       "         [0, 1, 2, 4, 2],\n",
       "         [0, 3, 2, 0, 7],\n",
       "         [5, 9, 0, 2, 7]],\n",
       "\n",
       "        [[2, 9, 2, 3, 3],\n",
       "         [2, 3, 4, 1, 2],\n",
       "         [9, 1, 4, 6, 8],\n",
       "         [2, 3, 0, 0, 6]],\n",
       "\n",
       "        [[0, 6, 3, 3, 8],\n",
       "         [8, 8, 2, 3, 2],\n",
       "         [0, 8, 8, 3, 8],\n",
       "         [2, 8, 4, 3, 0]]]], dtype=int32)"
      ]
     },
     "execution_count": 65,
     "metadata": {},
     "output_type": "execute_result"
    }
   ],
   "source": [
    "a4 = np.random.randint(0,10,(2,3,4,5))\n",
    "a4"
   ]
  },
  {
   "cell_type": "code",
   "execution_count": 66,
   "id": "728bcc8a-37a4-4e70-80f7-eefee294fe5c",
   "metadata": {},
   "outputs": [
    {
     "data": {
      "text/plain": [
       "(2, 3, 4, 5)"
      ]
     },
     "execution_count": 66,
     "metadata": {},
     "output_type": "execute_result"
    }
   ],
   "source": [
    "a4.shape"
   ]
  },
  {
   "cell_type": "code",
   "execution_count": 69,
   "id": "7127601e-1291-4eab-982b-6c0833419a83",
   "metadata": {},
   "outputs": [
    {
     "data": {
      "text/plain": [
       "array([[[[2, 3, 8, 1],\n",
       "         [3, 3, 7, 0],\n",
       "         [9, 9, 0, 4],\n",
       "         [3, 2, 7, 2]],\n",
       "\n",
       "        [[0, 4, 5, 5],\n",
       "         [8, 4, 1, 4],\n",
       "         [8, 1, 1, 7],\n",
       "         [9, 3, 6, 7]],\n",
       "\n",
       "        [[0, 3, 5, 9],\n",
       "         [4, 6, 4, 4],\n",
       "         [4, 4, 8, 4],\n",
       "         [7, 5, 5, 0]]],\n",
       "\n",
       "\n",
       "       [[[5, 9, 3, 0],\n",
       "         [0, 1, 2, 4],\n",
       "         [0, 3, 2, 0],\n",
       "         [5, 9, 0, 2]],\n",
       "\n",
       "        [[2, 9, 2, 3],\n",
       "         [2, 3, 4, 1],\n",
       "         [9, 1, 4, 6],\n",
       "         [2, 3, 0, 0]],\n",
       "\n",
       "        [[0, 6, 3, 3],\n",
       "         [8, 8, 2, 3],\n",
       "         [0, 8, 8, 3],\n",
       "         [2, 8, 4, 3]]]], dtype=int32)"
      ]
     },
     "execution_count": 69,
     "metadata": {},
     "output_type": "execute_result"
    }
   ],
   "source": [
    "# Get only the first 4 numbers of each single vector\n",
    "a4[:,:,:,:4]"
   ]
  },
  {
   "cell_type": "code",
   "execution_count": 70,
   "id": "efc4ee43-cd97-46f8-82ca-0af3aa558f20",
   "metadata": {},
   "outputs": [
    {
     "data": {
      "text/plain": [
       "array([[[[2, 3, 8, 1],\n",
       "         [3, 3, 7, 0],\n",
       "         [9, 9, 0, 4],\n",
       "         [3, 2, 7, 2]],\n",
       "\n",
       "        [[0, 4, 5, 5],\n",
       "         [8, 4, 1, 4],\n",
       "         [8, 1, 1, 7],\n",
       "         [9, 3, 6, 7]],\n",
       "\n",
       "        [[0, 3, 5, 9],\n",
       "         [4, 6, 4, 4],\n",
       "         [4, 4, 8, 4],\n",
       "         [7, 5, 5, 0]]]], dtype=int32)"
      ]
     },
     "execution_count": 70,
     "metadata": {},
     "output_type": "execute_result"
    }
   ],
   "source": [
    "# Get only the first 4 numbers of each single vector\n",
    "a4[:1,:,:,:4]"
   ]
  },
  {
   "cell_type": "markdown",
   "id": "0ceabba2-cca7-47b9-91af-bba79336b931",
   "metadata": {},
   "source": [
    "## 4.Manipulating & Comparing Arrays"
   ]
  },
  {
   "cell_type": "markdown",
   "id": "1a553647-4dbb-40f0-b841-269e37ef0abe",
   "metadata": {},
   "source": [
    "### Arithematic"
   ]
  },
  {
   "cell_type": "code",
   "execution_count": 72,
   "id": "ce975dad-8b12-4eed-8d39-7ed03d89824f",
   "metadata": {},
   "outputs": [
    {
     "data": {
      "text/plain": [
       "array([1, 2, 3])"
      ]
     },
     "execution_count": 72,
     "metadata": {},
     "output_type": "execute_result"
    }
   ],
   "source": [
    "a1"
   ]
  },
  {
   "cell_type": "code",
   "execution_count": 73,
   "id": "386965c8-41ab-4447-b7ae-53a9fb68554e",
   "metadata": {},
   "outputs": [
    {
     "data": {
      "text/plain": [
       "array([[1., 1., 1.],\n",
       "       [1., 1., 1.]])"
      ]
     },
     "execution_count": 73,
     "metadata": {},
     "output_type": "execute_result"
    }
   ],
   "source": [
    "ones"
   ]
  },
  {
   "cell_type": "code",
   "execution_count": 74,
   "id": "c965a199-abd2-464e-b243-eab5a41e7684",
   "metadata": {},
   "outputs": [
    {
     "data": {
      "text/plain": [
       "array([[2., 3., 4.],\n",
       "       [2., 3., 4.]])"
      ]
     },
     "execution_count": 74,
     "metadata": {},
     "output_type": "execute_result"
    }
   ],
   "source": [
    "a1 + ones"
   ]
  },
  {
   "cell_type": "code",
   "execution_count": 75,
   "id": "fae5355e-bcd6-4eba-8f64-f26564ea1b41",
   "metadata": {},
   "outputs": [
    {
     "data": {
      "text/plain": [
       "array([[0., 1., 2.],\n",
       "       [0., 1., 2.]])"
      ]
     },
     "execution_count": 75,
     "metadata": {},
     "output_type": "execute_result"
    }
   ],
   "source": [
    "a1 - ones"
   ]
  },
  {
   "cell_type": "code",
   "execution_count": 76,
   "id": "d9aa0860-aeb5-4440-a453-c086681af1f9",
   "metadata": {},
   "outputs": [
    {
     "data": {
      "text/plain": [
       "array([[1., 2., 3.],\n",
       "       [1., 2., 3.]])"
      ]
     },
     "execution_count": 76,
     "metadata": {},
     "output_type": "execute_result"
    }
   ],
   "source": [
    "a1 * ones"
   ]
  },
  {
   "cell_type": "code",
   "execution_count": 78,
   "id": "3baa7144-3946-45e9-b728-08cde2d04329",
   "metadata": {},
   "outputs": [
    {
     "data": {
      "text/plain": [
       "array([1, 2, 3])"
      ]
     },
     "execution_count": 78,
     "metadata": {},
     "output_type": "execute_result"
    }
   ],
   "source": [
    "a1"
   ]
  },
  {
   "cell_type": "code",
   "execution_count": 79,
   "id": "fde8351b-b10b-410f-8e20-391e77a76408",
   "metadata": {},
   "outputs": [
    {
     "data": {
      "text/plain": [
       "array([[1.  , 2.  , 3.3 ],\n",
       "       [4.  , 5.76, 3.  ]])"
      ]
     },
     "execution_count": 79,
     "metadata": {},
     "output_type": "execute_result"
    }
   ],
   "source": [
    "a2"
   ]
  },
  {
   "cell_type": "code",
   "execution_count": 77,
   "id": "67ce5fcb-e7cc-4349-bc41-22804fb61db2",
   "metadata": {},
   "outputs": [
    {
     "data": {
      "text/plain": [
       "array([[ 1.  ,  4.  ,  9.9 ],\n",
       "       [ 4.  , 11.52,  9.  ]])"
      ]
     },
     "execution_count": 77,
     "metadata": {},
     "output_type": "execute_result"
    }
   ],
   "source": [
    "a1 * a2"
   ]
  },
  {
   "cell_type": "code",
   "execution_count": 80,
   "id": "988a7d81-92c0-4959-b1a5-72f3f68e3550",
   "metadata": {},
   "outputs": [
    {
     "ename": "ValueError",
     "evalue": "operands could not be broadcast together with shapes (2,3) (2,3,3) ",
     "output_type": "error",
     "traceback": [
      "\u001b[31m---------------------------------------------------------------------------\u001b[39m",
      "\u001b[31mValueError\u001b[39m                                Traceback (most recent call last)",
      "\u001b[36mCell\u001b[39m\u001b[36m \u001b[39m\u001b[32mIn[80]\u001b[39m\u001b[32m, line 1\u001b[39m\n\u001b[32m----> \u001b[39m\u001b[32m1\u001b[39m a2 * a3\n",
      "\u001b[31mValueError\u001b[39m: operands could not be broadcast together with shapes (2,3) (2,3,3) "
     ]
    }
   ],
   "source": [
    "a2 * a3"
   ]
  },
  {
   "cell_type": "code",
   "execution_count": 81,
   "id": "9d79caab-1c9e-45de-b4d0-e418f1ede291",
   "metadata": {},
   "outputs": [
    {
     "data": {
      "text/plain": [
       "array([[1., 2., 3.],\n",
       "       [1., 2., 3.]])"
      ]
     },
     "execution_count": 81,
     "metadata": {},
     "output_type": "execute_result"
    }
   ],
   "source": [
    "a1 / ones"
   ]
  },
  {
   "cell_type": "code",
   "execution_count": 83,
   "id": "68ec6597-f286-477a-b79d-9950e157618e",
   "metadata": {},
   "outputs": [
    {
     "data": {
      "text/plain": [
       "array([[1., 1., 1.],\n",
       "       [4., 2., 1.]])"
      ]
     },
     "execution_count": 83,
     "metadata": {},
     "output_type": "execute_result"
    }
   ],
   "source": [
    "#Floor division removes the decimals(rounds down)\n",
    "a2 // a1"
   ]
  },
  {
   "cell_type": "code",
   "execution_count": 84,
   "id": "3d198a91-99f8-450c-8c71-a6242ce92192",
   "metadata": {},
   "outputs": [
    {
     "data": {
      "text/plain": [
       "array([[ 1.    ,  4.    , 10.89  ],\n",
       "       [16.    , 33.1776,  9.    ]])"
      ]
     },
     "execution_count": 84,
     "metadata": {},
     "output_type": "execute_result"
    }
   ],
   "source": [
    "a2 ** 2"
   ]
  },
  {
   "cell_type": "code",
   "execution_count": 85,
   "id": "e9e4b6dc-b835-4034-b6c2-94cceecccda5",
   "metadata": {},
   "outputs": [
    {
     "data": {
      "text/plain": [
       "array([[ 1.    ,  4.    , 10.89  ],\n",
       "       [16.    , 33.1776,  9.    ]])"
      ]
     },
     "execution_count": 85,
     "metadata": {},
     "output_type": "execute_result"
    }
   ],
   "source": [
    "np.square(a2)"
   ]
  },
  {
   "cell_type": "code",
   "execution_count": 86,
   "id": "8a0641a5-4784-4047-a13d-03b529e2b4ec",
   "metadata": {},
   "outputs": [
    {
     "data": {
      "text/plain": [
       "array([1, 0, 1])"
      ]
     },
     "execution_count": 86,
     "metadata": {},
     "output_type": "execute_result"
    }
   ],
   "source": [
    "a1 % 2 "
   ]
  },
  {
   "cell_type": "code",
   "execution_count": 87,
   "id": "8a494ac5-b3bc-49b9-a7e6-61cba42d42bd",
   "metadata": {},
   "outputs": [
    {
     "data": {
      "text/plain": [
       "array([ 2.71828183,  7.3890561 , 20.08553692])"
      ]
     },
     "execution_count": 87,
     "metadata": {},
     "output_type": "execute_result"
    }
   ],
   "source": [
    "np.exp(a1)"
   ]
  },
  {
   "cell_type": "code",
   "execution_count": 88,
   "id": "c13d4936-4162-4b39-a835-d8f340368e80",
   "metadata": {},
   "outputs": [
    {
     "data": {
      "text/plain": [
       "array([0.        , 0.69314718, 1.09861229])"
      ]
     },
     "execution_count": 88,
     "metadata": {},
     "output_type": "execute_result"
    }
   ],
   "source": [
    "np.log(a1)"
   ]
  },
  {
   "cell_type": "markdown",
   "id": "170717be-9891-43ba-b94e-1ec9d737cdba",
   "metadata": {},
   "source": [
    "### Aggregation\n",
    "Performing the same operation on a number of things"
   ]
  },
  {
   "cell_type": "code",
   "execution_count": 90,
   "id": "01bcb4dc-71a1-4b17-97e6-b0e1308c9cbf",
   "metadata": {},
   "outputs": [
    {
     "data": {
      "text/plain": [
       "list"
      ]
     },
     "execution_count": 90,
     "metadata": {},
     "output_type": "execute_result"
    }
   ],
   "source": [
    "list_1 = [1,2,3]\n",
    "type(list_1)"
   ]
  },
  {
   "cell_type": "code",
   "execution_count": 92,
   "id": "6304f6e4-b91b-4c7a-a1fb-8cbdd3e617f8",
   "metadata": {},
   "outputs": [
    {
     "data": {
      "text/plain": [
       "6"
      ]
     },
     "execution_count": 92,
     "metadata": {},
     "output_type": "execute_result"
    }
   ],
   "source": [
    "sum(list_1)"
   ]
  },
  {
   "cell_type": "code",
   "execution_count": 93,
   "id": "ffc405f3-9d68-4306-90f9-6ab4bcc1cfe1",
   "metadata": {},
   "outputs": [
    {
     "data": {
      "text/plain": [
       "numpy.ndarray"
      ]
     },
     "execution_count": 93,
     "metadata": {},
     "output_type": "execute_result"
    }
   ],
   "source": [
    "type(a1)"
   ]
  },
  {
   "cell_type": "code",
   "execution_count": 94,
   "id": "bc42d308-6b97-483e-ba30-0d51ac50c174",
   "metadata": {},
   "outputs": [
    {
     "data": {
      "text/plain": [
       "np.int64(6)"
      ]
     },
     "execution_count": 94,
     "metadata": {},
     "output_type": "execute_result"
    }
   ],
   "source": [
    "sum(a1)"
   ]
  },
  {
   "cell_type": "code",
   "execution_count": 95,
   "id": "937a87f5-87ff-42c8-8e59-18c5d2b9e9ba",
   "metadata": {},
   "outputs": [
    {
     "data": {
      "text/plain": [
       "np.int64(6)"
      ]
     },
     "execution_count": 95,
     "metadata": {},
     "output_type": "execute_result"
    }
   ],
   "source": [
    "np.sum(a1)"
   ]
  },
  {
   "cell_type": "markdown",
   "id": "5051a951-3993-465e-b81f-70db33001345",
   "metadata": {},
   "source": [
    "Use Python methods(`sum()`) on Python datatype and use Numpy's methods(`np.sum()`) on NumPy arrays"
   ]
  },
  {
   "cell_type": "code",
   "execution_count": 97,
   "id": "e4491798-0563-43f8-85bd-a214306223b1",
   "metadata": {},
   "outputs": [
    {
     "data": {
      "text/plain": [
       "10000"
      ]
     },
     "execution_count": 97,
     "metadata": {},
     "output_type": "execute_result"
    }
   ],
   "source": [
    "#Create Massive NumPy array\n",
    "massive_array = np.random.random(1000000)\n",
    "massive_array.size"
   ]
  },
  {
   "cell_type": "code",
   "execution_count": 98,
   "id": "4f8bf2ac-e32d-4e03-b689-3149f36d6726",
   "metadata": {},
   "outputs": [
    {
     "data": {
      "text/plain": [
       "array([0.84640867, 0.69947928, 0.29743695, 0.81379782, 0.39650574,\n",
       "       0.8811032 , 0.58127287, 0.88173536, 0.69253159, 0.72525428])"
      ]
     },
     "execution_count": 98,
     "metadata": {},
     "output_type": "execute_result"
    }
   ],
   "source": [
    "massive_array[:10]"
   ]
  },
  {
   "cell_type": "code",
   "execution_count": 101,
   "id": "4b9b8fc6-8b87-4ca4-a9ca-f52cc54fdaa9",
   "metadata": {},
   "outputs": [
    {
     "name": "stdout",
     "output_type": "stream",
     "text": [
      "1.67 ms ± 127 μs per loop (mean ± std. dev. of 7 runs, 100 loops each)\n",
      "15.7 μs ± 1.61 μs per loop (mean ± std. dev. of 7 runs, 100,000 loops each)\n"
     ]
    }
   ],
   "source": [
    "# %timeit - find the execution time \n",
    "%timeit sum(massive_array) #Python's sum()\n",
    "%timeit np.sum(massive_array) #NumPy's np.sum()"
   ]
  },
  {
   "cell_type": "code",
   "execution_count": 102,
   "id": "1d2412cc-7c07-4aef-9e4c-e01fa6716c10",
   "metadata": {},
   "outputs": [
    {
     "data": {
      "text/plain": [
       "array([[1.  , 2.  , 3.3 ],\n",
       "       [4.  , 5.76, 3.  ]])"
      ]
     },
     "execution_count": 102,
     "metadata": {},
     "output_type": "execute_result"
    }
   ],
   "source": [
    "a2"
   ]
  },
  {
   "cell_type": "code",
   "execution_count": 103,
   "id": "b610ed86-06b4-425c-a220-d5ea95da50fe",
   "metadata": {},
   "outputs": [
    {
     "data": {
      "text/plain": [
       "np.float64(3.176666666666667)"
      ]
     },
     "execution_count": 103,
     "metadata": {},
     "output_type": "execute_result"
    }
   ],
   "source": [
    "np.mean(a2)"
   ]
  },
  {
   "cell_type": "code",
   "execution_count": 104,
   "id": "48ed9066-95ff-42ca-8739-df7bde07b894",
   "metadata": {},
   "outputs": [
    {
     "data": {
      "text/plain": [
       "np.float64(5.76)"
      ]
     },
     "execution_count": 104,
     "metadata": {},
     "output_type": "execute_result"
    }
   ],
   "source": [
    "np.max(a2)"
   ]
  },
  {
   "cell_type": "code",
   "execution_count": 109,
   "id": "cb2ab902-d69a-40fc-8dcd-a4721a4edde6",
   "metadata": {},
   "outputs": [
    {
     "data": {
      "text/plain": [
       "np.float64(1.5011292045952902)"
      ]
     },
     "execution_count": 109,
     "metadata": {},
     "output_type": "execute_result"
    }
   ],
   "source": [
    "# Standard deviation = a measure of how spread out a group of numbers is from the mean\n",
    "# Standard deviation is the square root of the variance.\n",
    "np.std(a2) "
   ]
  },
  {
   "cell_type": "code",
   "execution_count": 107,
   "id": "b56b5889-fbb6-4f9a-9c64-29a540c95b73",
   "metadata": {},
   "outputs": [
    {
     "data": {
      "text/plain": [
       "np.float64(2.2533888888888884)"
      ]
     },
     "execution_count": 107,
     "metadata": {},
     "output_type": "execute_result"
    }
   ],
   "source": [
    "# Variance - how far each data point in a set is from the mean \n",
    "# Higher Variance = wider range of numbers\n",
    "# Lower Variance = smaller range of numbers\n",
    "np.var(a2)"
   ]
  },
  {
   "cell_type": "code",
   "execution_count": 111,
   "id": "402daaaa-faa8-4691-b822-a474f59a1a32",
   "metadata": {},
   "outputs": [],
   "source": [
    "#Demo of std and var\n",
    "high_var_array = np.array([1, 100, 200, 300, 4000, 5000])\n",
    "low_var_array = np.array([2, 4, 6, 8, 10])"
   ]
  },
  {
   "cell_type": "code",
   "execution_count": 112,
   "id": "ff8b6a8d-bfde-48fd-8fea-d403440e512f",
   "metadata": {},
   "outputs": [
    {
     "data": {
      "text/plain": [
       "(np.float64(4296133.472222221), np.float64(8.0))"
      ]
     },
     "execution_count": 112,
     "metadata": {},
     "output_type": "execute_result"
    }
   ],
   "source": [
    "np.var(high_var_array) , np.var(low_var_array)"
   ]
  },
  {
   "cell_type": "code",
   "execution_count": 113,
   "id": "64bfc90b-775e-4074-bba3-2978078fc21a",
   "metadata": {},
   "outputs": [
    {
     "data": {
      "text/plain": [
       "(np.float64(2072.711623024829), np.float64(2.8284271247461903))"
      ]
     },
     "execution_count": 113,
     "metadata": {},
     "output_type": "execute_result"
    }
   ],
   "source": [
    "np.std(high_var_array) , np.std(low_var_array)"
   ]
  },
  {
   "cell_type": "code",
   "execution_count": 114,
   "id": "77d92f8c-ab8c-4a32-a694-168b415d0736",
   "metadata": {},
   "outputs": [
    {
     "data": {
      "text/plain": [
       "(np.float64(1600.1666666666667), np.float64(6.0))"
      ]
     },
     "execution_count": 114,
     "metadata": {},
     "output_type": "execute_result"
    }
   ],
   "source": [
    "np.mean(high_var_array) , np.mean(low_var_array)\n"
   ]
  },
  {
   "cell_type": "code",
   "execution_count": 118,
   "id": "f7c4008c-f77a-4627-8e9a-9ad351aea0a1",
   "metadata": {},
   "outputs": [],
   "source": [
    "\n",
    "import matplotlib.pyplot as plt"
   ]
  },
  {
   "cell_type": "code",
   "execution_count": 117,
   "id": "e1e04ffc-2fc4-4216-bfb7-b03a81a23cb6",
   "metadata": {},
   "outputs": [
    {
     "data": {
      "image/png": "[encoded data removed]",
      "text/plain": [
       "<Figure size 640x480 with 1 Axes>"
      ]
     },
     "metadata": {},
     "output_type": "display_data"
    }
   ],
   "source": [
    "plt.hist(high_var_array)\n",
    "plt.show()"
   ]
  },
  {
   "cell_type": "code",
   "execution_count": 119,
   "id": "7ee97cb9-7750-4c15-9012-60b966f51447",
   "metadata": {},
   "outputs": [
    {
     "data": {
      "image/png": "[encoded data removed]",
      "text/plain": [
       "<Figure size 640x480 with 1 Axes>"
      ]
     },
     "metadata": {},
     "output_type": "display_data"
    }
   ],
   "source": [
    "plt.hist(low_var_array)\n",
    "plt.show()"
   ]
  },
  {
   "cell_type": "markdown",
   "id": "f8092879-ce84-4380-bff9-0912fe2fb69c",
   "metadata": {},
   "source": [
    "## 4.Reshaping & Transposing"
   ]
  },
  {
   "cell_type": "code",
   "execution_count": 120,
   "id": "0417a52b-a08d-48c9-b88b-e6e64cdeae42",
   "metadata": {},
   "outputs": [
    {
     "data": {
      "text/plain": [
       "array([[1.  , 2.  , 3.3 ],\n",
       "       [4.  , 5.76, 3.  ]])"
      ]
     },
     "execution_count": 120,
     "metadata": {},
     "output_type": "execute_result"
    }
   ],
   "source": [
    "a2"
   ]
  },
  {
   "cell_type": "code",
   "execution_count": 123,
   "id": "67f4f94e-d6e2-4b07-83e8-f3cd87ede21b",
   "metadata": {},
   "outputs": [
    {
     "data": {
      "text/plain": [
       "((2, 3), (2, 3, 3))"
      ]
     },
     "execution_count": 123,
     "metadata": {},
     "output_type": "execute_result"
    }
   ],
   "source": [
    "a2.shape,a3.shape"
   ]
  },
  {
   "cell_type": "code",
   "execution_count": 124,
   "id": "99212019-ac25-422b-9877-f940aae8b075",
   "metadata": {},
   "outputs": [
    {
     "ename": "ValueError",
     "evalue": "operands could not be broadcast together with shapes (2,3) (2,3,3) ",
     "output_type": "error",
     "traceback": [
      "\u001b[31m---------------------------------------------------------------------------\u001b[39m",
      "\u001b[31mValueError\u001b[39m                                Traceback (most recent call last)",
      "\u001b[36mCell\u001b[39m\u001b[36m \u001b[39m\u001b[32mIn[124]\u001b[39m\u001b[32m, line 1\u001b[39m\n\u001b[32m----> \u001b[39m\u001b[32m1\u001b[39m a2 * a3\n",
      "\u001b[31mValueError\u001b[39m: operands could not be broadcast together with shapes (2,3) (2,3,3) "
     ]
    }
   ],
   "source": [
    "a2 * a3"
   ]
  },
  {
   "cell_type": "code",
   "execution_count": 126,
   "id": "b822ff9b-5c9f-428d-9786-a1b6607f1d20",
   "metadata": {},
   "outputs": [
    {
     "data": {
      "text/plain": [
       "array([[[1.  ],\n",
       "        [2.  ],\n",
       "        [3.3 ]],\n",
       "\n",
       "       [[4.  ],\n",
       "        [5.76],\n",
       "        [3.  ]]])"
      ]
     },
     "execution_count": 126,
     "metadata": {},
     "output_type": "execute_result"
    }
   ],
   "source": [
    "#reshape() - Returns an array containing the same data with a new shape.\n",
    "#as per braodcast rules either shapes of 2 elements should be same or one of them is 1\n",
    "#changing the shape od a2 from (2,3) to (2,3,1)\n",
    "a2.reshape(2,3,1)"
   ]
  },
  {
   "cell_type": "code",
   "execution_count": 128,
   "id": "3370680d-5f21-42da-a9a3-70e615dcb613",
   "metadata": {},
   "outputs": [
    {
     "data": {
      "text/plain": [
       "(2, 3, 1)"
      ]
     },
     "execution_count": 128,
     "metadata": {},
     "output_type": "execute_result"
    }
   ],
   "source": [
    "a2.reshape(2,3,1).shape"
   ]
  },
  {
   "cell_type": "code",
   "execution_count": 129,
   "id": "49c1439f-9c84-4da5-a75a-80bd6af54f12",
   "metadata": {},
   "outputs": [
    {
     "data": {
      "text/plain": [
       "array([[[ 1.  ,  2.  ,  3.  ],\n",
       "        [ 8.  , 10.  , 12.  ],\n",
       "        [23.1 , 26.4 , 29.7 ]],\n",
       "\n",
       "       [[40.  , 44.  , 48.  ],\n",
       "        [74.88, 80.64, 86.4 ],\n",
       "        [48.  , 51.  , 54.  ]]])"
      ]
     },
     "execution_count": 129,
     "metadata": {},
     "output_type": "execute_result"
    }
   ],
   "source": [
    "a2.reshape(2,3,1) * a3"
   ]
  },
  {
   "cell_type": "code",
   "execution_count": 135,
   "id": "55b713f8-0fa6-4273-9a40-90fb13422fab",
   "metadata": {},
   "outputs": [
    {
     "data": {
      "text/plain": [
       "array([[1.  , 2.  , 3.3 ],\n",
       "       [4.  , 5.76, 3.  ]])"
      ]
     },
     "execution_count": 135,
     "metadata": {},
     "output_type": "execute_result"
    }
   ],
   "source": [
    "# Transpose = A tranpose reverses the order of the axes.\n",
    "a2"
   ]
  },
  {
   "cell_type": "code",
   "execution_count": 133,
   "id": "3cec53e7-222a-4fbd-be44-925eb4764ef1",
   "metadata": {},
   "outputs": [
    {
     "data": {
      "text/plain": [
       "array([[1.  , 4.  ],\n",
       "       [2.  , 5.76],\n",
       "       [3.3 , 3.  ]])"
      ]
     },
     "execution_count": 133,
     "metadata": {},
     "output_type": "execute_result"
    }
   ],
   "source": [
    "a2.T"
   ]
  },
  {
   "cell_type": "code",
   "execution_count": 134,
   "id": "e1ffee07-f0ad-48c7-bb2d-5e3c8634c561",
   "metadata": {},
   "outputs": [
    {
     "data": {
      "text/plain": [
       "((2, 3), (3, 2))"
      ]
     },
     "execution_count": 134,
     "metadata": {},
     "output_type": "execute_result"
    }
   ],
   "source": [
    "a2.shape, a2.T.shape"
   ]
  },
  {
   "cell_type": "markdown",
   "id": "91fa8665-7de9-4c12-886a-58f4013a1099",
   "metadata": {},
   "source": [
    "### 5.Dot Product"
   ]
  },
  {
   "cell_type": "code",
   "execution_count": 3,
   "id": "e685b1e2-177d-4fd3-9c59-fc2f9a06bb1a",
   "metadata": {},
   "outputs": [
    {
     "data": {
      "text/plain": [
       "((5, 3), (5, 3))"
      ]
     },
     "execution_count": 3,
     "metadata": {},
     "output_type": "execute_result"
    }
   ],
   "source": [
    "np.random.seed(0) \n",
    "m1 = np.random.randint(0,10,(5,3))\n",
    "m2 = np.random.randint(0,10,(5,3))\n",
    "m1.shape,m2.shape"
   ]
  },
  {
   "cell_type": "code",
   "execution_count": 4,
   "id": "433f595f-6e74-4404-b986-4081a760df01",
   "metadata": {},
   "outputs": [
    {
     "ename": "ValueError",
     "evalue": "shapes (5,3) and (5,3) not aligned: 3 (dim 1) != 5 (dim 0)",
     "output_type": "error",
     "traceback": [
      "\u001b[31m---------------------------------------------------------------------------\u001b[39m",
      "\u001b[31mValueError\u001b[39m                                Traceback (most recent call last)",
      "\u001b[36mCell\u001b[39m\u001b[36m \u001b[39m\u001b[32mIn[4]\u001b[39m\u001b[32m, line 1\u001b[39m\n\u001b[32m----> \u001b[39m\u001b[32m1\u001b[39m np.dot(m1,m2)\n",
      "\u001b[31mValueError\u001b[39m: shapes (5,3) and (5,3) not aligned: 3 (dim 1) != 5 (dim 0)"
     ]
    }
   ],
   "source": [
    "np.dot(m1,m2)"
   ]
  },
  {
   "cell_type": "code",
   "execution_count": 5,
   "id": "8b1b9942-d9b6-4ccf-85d1-b90a32e8ca1d",
   "metadata": {},
   "outputs": [
    {
     "data": {
      "text/plain": [
       "array([[ 51,  55,  72,  20,  15],\n",
       "       [130,  76, 164,  33,  44],\n",
       "       [ 67,  39,  85,  27,  34],\n",
       "       [115,  69, 146,  37,  47],\n",
       "       [111,  77, 145,  56,  64]], dtype=int32)"
      ]
     },
     "execution_count": 5,
     "metadata": {},
     "output_type": "execute_result"
    }
   ],
   "source": [
    "np.dot(m1,m2.T)"
   ]
  },
  {
   "cell_type": "code",
   "execution_count": 10,
   "id": "3e8dfedc-27d2-4b25-8f0e-b5df1377aac2",
   "metadata": {},
   "outputs": [],
   "source": [
    "# Can also achieve np.dot() with \"@\" \n",
    "# (however, they may behave differently at 3D+ arrays)\n",
    "m3 = m1 @ m2.T"
   ]
  },
  {
   "cell_type": "code",
   "execution_count": 11,
   "id": "fc61ef21-666b-40d2-acaf-f50689833705",
   "metadata": {},
   "outputs": [
    {
     "data": {
      "text/plain": [
       "((5, 3), (3, 5), (5, 5))"
      ]
     },
     "execution_count": 11,
     "metadata": {},
     "output_type": "execute_result"
    }
   ],
   "source": [
    "m1.shape , m2.T.shape , m3.shape"
   ]
  },
  {
   "cell_type": "markdown",
   "id": "37c8d3fe-dd9f-473b-910b-71abaa94a46b",
   "metadata": {},
   "source": [
    "## Dot product example (NutButter Sales)"
   ]
  },
  {
   "cell_type": "code",
   "execution_count": 14,
   "id": "24c9433e-3a35-4525-8141-0c96c934e6f3",
   "metadata": {},
   "outputs": [
    {
     "data": {
      "text/plain": [
       "array([[12, 15,  0],\n",
       "       [ 3,  3,  7],\n",
       "       [ 9, 19, 18],\n",
       "       [ 4,  6, 12],\n",
       "       [ 1,  6,  7]], dtype=int32)"
      ]
     },
     "execution_count": 14,
     "metadata": {},
     "output_type": "execute_result"
    }
   ],
   "source": [
    "##creating weekly sales figure\n",
    "np.random.seed(0)\n",
    "array1 = np.random.randint(0,20,(5,3))\n",
    "array1"
   ]
  },
  {
   "cell_type": "code",
   "execution_count": 17,
   "id": "10aed378-a0b1-4703-8793-2e2c7e9bac67",
   "metadata": {},
   "outputs": [
    {
     "data": {
      "text/html": [
       "<div>\n",
       "<style scoped>\n",
       "    .dataframe tbody tr th:only-of-type {\n",
       "        vertical-align: middle;\n",
       "    }\n",
       "\n",
       "    .dataframe tbody tr th {\n",
       "        vertical-align: top;\n",
       "    }\n",
       "\n",
       "    .dataframe thead th {\n",
       "        text-align: right;\n",
       "    }\n",
       "</style>\n",
       "<table border=\"1\" class=\"dataframe\">\n",
       "  <thead>\n",
       "    <tr style=\"text-align: right;\">\n",
       "      <th></th>\n",
       "      <th>Almond Butter</th>\n",
       "      <th>Peanut Butter</th>\n",
       "      <th>Cashew Butter</th>\n",
       "    </tr>\n",
       "  </thead>\n",
       "  <tbody>\n",
       "    <tr>\n",
       "      <th>Mon</th>\n",
       "      <td>12</td>\n",
       "      <td>15</td>\n",
       "      <td>0</td>\n",
       "    </tr>\n",
       "    <tr>\n",
       "      <th>Tus</th>\n",
       "      <td>3</td>\n",
       "      <td>3</td>\n",
       "      <td>7</td>\n",
       "    </tr>\n",
       "    <tr>\n",
       "      <th>Wed</th>\n",
       "      <td>9</td>\n",
       "      <td>19</td>\n",
       "      <td>18</td>\n",
       "    </tr>\n",
       "    <tr>\n",
       "      <th>Thurs</th>\n",
       "      <td>4</td>\n",
       "      <td>6</td>\n",
       "      <td>12</td>\n",
       "    </tr>\n",
       "    <tr>\n",
       "      <th>Friday</th>\n",
       "      <td>1</td>\n",
       "      <td>6</td>\n",
       "      <td>7</td>\n",
       "    </tr>\n",
       "  </tbody>\n",
       "</table>\n",
       "</div>"
      ],
      "text/plain": [
       "        Almond Butter  Peanut Butter  Cashew Butter\n",
       "Mon                12             15              0\n",
       "Tus                 3              3              7\n",
       "Wed                 9             19             18\n",
       "Thurs               4              6             12\n",
       "Friday              1              6              7"
      ]
     },
     "execution_count": 17,
     "metadata": {},
     "output_type": "execute_result"
    }
   ],
   "source": [
    "##Creating DataFram with array1\n",
    "nutButter_sale = pd.DataFrame(array1,\n",
    "                              index = [\"Mon\",\"Tus\",\"Wed\",\"Thurs\",\"Friday\"],\n",
    "                              columns = [\"Almond Butter\",\"Peanut Butter\",\"Cashew Butter\"])\n",
    "nutButter_sale"
   ]
  },
  {
   "cell_type": "code",
   "execution_count": 21,
   "id": "02aebec1-bf04-4226-aabb-a250b578c8e4",
   "metadata": {},
   "outputs": [
    {
     "data": {
      "text/plain": [
       "array([[16, 19, 17]], dtype=int32)"
      ]
     },
     "execution_count": 21,
     "metadata": {},
     "output_type": "execute_result"
    }
   ],
   "source": [
    "##creating weekly price figure\n",
    "np.random.seed(0)\n",
    "array2 = np.random.randint(12,20,(1,3))\n",
    "array2"
   ]
  },
  {
   "cell_type": "code",
   "execution_count": 23,
   "id": "23bdda17-0b7d-4529-a035-ef8ec9ed2b09",
   "metadata": {},
   "outputs": [
    {
     "data": {
      "text/html": [
       "<div>\n",
       "<style scoped>\n",
       "    .dataframe tbody tr th:only-of-type {\n",
       "        vertical-align: middle;\n",
       "    }\n",
       "\n",
       "    .dataframe tbody tr th {\n",
       "        vertical-align: top;\n",
       "    }\n",
       "\n",
       "    .dataframe thead th {\n",
       "        text-align: right;\n",
       "    }\n",
       "</style>\n",
       "<table border=\"1\" class=\"dataframe\">\n",
       "  <thead>\n",
       "    <tr style=\"text-align: right;\">\n",
       "      <th></th>\n",
       "      <th>Almond Butter</th>\n",
       "      <th>Peanut Butter</th>\n",
       "      <th>Cashew Butter</th>\n",
       "    </tr>\n",
       "  </thead>\n",
       "  <tbody>\n",
       "    <tr>\n",
       "      <th>Price</th>\n",
       "      <td>16</td>\n",
       "      <td>19</td>\n",
       "      <td>17</td>\n",
       "    </tr>\n",
       "  </tbody>\n",
       "</table>\n",
       "</div>"
      ],
      "text/plain": [
       "       Almond Butter  Peanut Butter  Cashew Butter\n",
       "Price             16             19             17"
      ]
     },
     "execution_count": 23,
     "metadata": {},
     "output_type": "execute_result"
    }
   ],
   "source": [
    "##Creating DataFram with array2\n",
    "price = pd.DataFrame(array2,\n",
    "                    index=[\"Price\"],\n",
    "                    columns = [\"Almond Butter\",\"Peanut Butter\",\"Cashew Butter\"])\n",
    "price"
   ]
  },
  {
   "cell_type": "code",
   "execution_count": 24,
   "id": "0a044eb8-a775-44f0-ba79-a251e9b1e8df",
   "metadata": {},
   "outputs": [
    {
     "ename": "ValueError",
     "evalue": "matrices are not aligned",
     "output_type": "error",
     "traceback": [
      "\u001b[31m---------------------------------------------------------------------------\u001b[39m",
      "\u001b[31mValueError\u001b[39m                                Traceback (most recent call last)",
      "\u001b[32m~\\AppData\\Local\\Temp\\ipykernel_6776\\2774915723.py\u001b[39m in \u001b[36m?\u001b[39m\u001b[34m()\u001b[39m\n\u001b[32m      1\u001b[39m \u001b[38;5;66;03m#total_Sales\u001b[39;00m\n\u001b[32m----> \u001b[39m\u001b[32m2\u001b[39m total_Sales  = price.dot(nutButter_sale)\n\u001b[32m      3\u001b[39m total_Sales\n",
      "\u001b[32m~\\Desktop\\MachineLearning\\Theory\\Introduction_to_Numpy\\env\\Lib\\site-packages\\pandas\\core\\frame.py\u001b[39m in \u001b[36m?\u001b[39m\u001b[34m(self, other)\u001b[39m\n\u001b[32m   1733\u001b[39m         \"\"\"\n\u001b[32m   1734\u001b[39m         \u001b[38;5;28;01mif\u001b[39;00m isinstance(other, (Series, DataFrame)):\n\u001b[32m   1735\u001b[39m             common = self.columns.union(other.index)\n\u001b[32m   1736\u001b[39m             \u001b[38;5;28;01mif\u001b[39;00m len(common) > len(self.columns) \u001b[38;5;28;01mor\u001b[39;00m len(common) > len(other.index):\n\u001b[32m-> \u001b[39m\u001b[32m1737\u001b[39m                 \u001b[38;5;28;01mraise\u001b[39;00m ValueError(\u001b[33m\"matrices are not aligned\"\u001b[39m)\n\u001b[32m   1738\u001b[39m \n\u001b[32m   1739\u001b[39m             left = self.reindex(columns=common, copy=\u001b[38;5;28;01mFalse\u001b[39;00m)\n\u001b[32m   1740\u001b[39m             right = other.reindex(index=common, copy=\u001b[38;5;28;01mFalse\u001b[39;00m)\n",
      "\u001b[31mValueError\u001b[39m: matrices are not aligned"
     ]
    }
   ],
   "source": [
    "#total_Sales \n",
    "total_Sales  = price.dot(nutButter_sale)\n",
    "total_Sales "
   ]
  },
  {
   "cell_type": "code",
   "execution_count": 26,
   "id": "6dc58a2a-fa51-4b53-9ec2-8dc7a5f08e79",
   "metadata": {},
   "outputs": [
    {
     "data": {
      "text/plain": [
       "array([[477, 224, 811, 382, 249]], dtype=int32)"
      ]
     },
     "execution_count": 26,
     "metadata": {},
     "output_type": "execute_result"
    }
   ],
   "source": [
    "#Shapes are not aligned so transpose\n",
    "#total_Sales \n",
    "total_Sales  = array2.dot(array1.T)\n",
    "total_Sales "
   ]
  },
  {
   "cell_type": "code",
   "execution_count": 29,
   "id": "ca970118-4817-4433-b14d-817885c2ee43",
   "metadata": {},
   "outputs": [
    {
     "data": {
      "text/html": [
       "<div>\n",
       "<style scoped>\n",
       "    .dataframe tbody tr th:only-of-type {\n",
       "        vertical-align: middle;\n",
       "    }\n",
       "\n",
       "    .dataframe tbody tr th {\n",
       "        vertical-align: top;\n",
       "    }\n",
       "\n",
       "    .dataframe thead th {\n",
       "        text-align: right;\n",
       "    }\n",
       "</style>\n",
       "<table border=\"1\" class=\"dataframe\">\n",
       "  <thead>\n",
       "    <tr style=\"text-align: right;\">\n",
       "      <th></th>\n",
       "      <th>Almond Butter</th>\n",
       "      <th>Peanut Butter</th>\n",
       "      <th>Cashew Butter</th>\n",
       "    </tr>\n",
       "  </thead>\n",
       "  <tbody>\n",
       "    <tr>\n",
       "      <th>Price</th>\n",
       "      <td>16</td>\n",
       "      <td>19</td>\n",
       "      <td>17</td>\n",
       "    </tr>\n",
       "  </tbody>\n",
       "</table>\n",
       "</div>"
      ],
      "text/plain": [
       "       Almond Butter  Peanut Butter  Cashew Butter\n",
       "Price             16             19             17"
      ]
     },
     "execution_count": 29,
     "metadata": {},
     "output_type": "execute_result"
    }
   ],
   "source": [
    "#Create Daily Sales\n",
    "price"
   ]
  },
  {
   "cell_type": "code",
   "execution_count": 28,
   "id": "9c743e55-9194-4cd9-b013-4e865d28ff4d",
   "metadata": {},
   "outputs": [
    {
     "data": {
      "text/html": [
       "<div>\n",
       "<style scoped>\n",
       "    .dataframe tbody tr th:only-of-type {\n",
       "        vertical-align: middle;\n",
       "    }\n",
       "\n",
       "    .dataframe tbody tr th {\n",
       "        vertical-align: top;\n",
       "    }\n",
       "\n",
       "    .dataframe thead th {\n",
       "        text-align: right;\n",
       "    }\n",
       "</style>\n",
       "<table border=\"1\" class=\"dataframe\">\n",
       "  <thead>\n",
       "    <tr style=\"text-align: right;\">\n",
       "      <th></th>\n",
       "      <th>Almond Butter</th>\n",
       "      <th>Peanut Butter</th>\n",
       "      <th>Cashew Butter</th>\n",
       "    </tr>\n",
       "  </thead>\n",
       "  <tbody>\n",
       "    <tr>\n",
       "      <th>Mon</th>\n",
       "      <td>12</td>\n",
       "      <td>15</td>\n",
       "      <td>0</td>\n",
       "    </tr>\n",
       "    <tr>\n",
       "      <th>Tus</th>\n",
       "      <td>3</td>\n",
       "      <td>3</td>\n",
       "      <td>7</td>\n",
       "    </tr>\n",
       "    <tr>\n",
       "      <th>Wed</th>\n",
       "      <td>9</td>\n",
       "      <td>19</td>\n",
       "      <td>18</td>\n",
       "    </tr>\n",
       "    <tr>\n",
       "      <th>Thurs</th>\n",
       "      <td>4</td>\n",
       "      <td>6</td>\n",
       "      <td>12</td>\n",
       "    </tr>\n",
       "    <tr>\n",
       "      <th>Friday</th>\n",
       "      <td>1</td>\n",
       "      <td>6</td>\n",
       "      <td>7</td>\n",
       "    </tr>\n",
       "  </tbody>\n",
       "</table>\n",
       "</div>"
      ],
      "text/plain": [
       "        Almond Butter  Peanut Butter  Cashew Butter\n",
       "Mon                12             15              0\n",
       "Tus                 3              3              7\n",
       "Wed                 9             19             18\n",
       "Thurs               4              6             12\n",
       "Friday              1              6              7"
      ]
     },
     "execution_count": 28,
     "metadata": {},
     "output_type": "execute_result"
    }
   ],
   "source": [
    "nutButter_sale"
   ]
  },
  {
   "cell_type": "code",
   "execution_count": 30,
   "id": "4b461d60-435f-4402-b545-769eb11051d6",
   "metadata": {},
   "outputs": [
    {
     "data": {
      "text/plain": [
       "((1, 3), (5, 3))"
      ]
     },
     "execution_count": 30,
     "metadata": {},
     "output_type": "execute_result"
    }
   ],
   "source": [
    "price.shape , nutButter_sale.shape"
   ]
  },
  {
   "cell_type": "code",
   "execution_count": 31,
   "id": "6f01741c-edea-4c32-83b1-8c28d9c67811",
   "metadata": {},
   "outputs": [
    {
     "data": {
      "text/html": [
       "<div>\n",
       "<style scoped>\n",
       "    .dataframe tbody tr th:only-of-type {\n",
       "        vertical-align: middle;\n",
       "    }\n",
       "\n",
       "    .dataframe tbody tr th {\n",
       "        vertical-align: top;\n",
       "    }\n",
       "\n",
       "    .dataframe thead th {\n",
       "        text-align: right;\n",
       "    }\n",
       "</style>\n",
       "<table border=\"1\" class=\"dataframe\">\n",
       "  <thead>\n",
       "    <tr style=\"text-align: right;\">\n",
       "      <th></th>\n",
       "      <th>Mon</th>\n",
       "      <th>Tus</th>\n",
       "      <th>Wed</th>\n",
       "      <th>Thurs</th>\n",
       "      <th>Friday</th>\n",
       "    </tr>\n",
       "  </thead>\n",
       "  <tbody>\n",
       "    <tr>\n",
       "      <th>Price</th>\n",
       "      <td>477</td>\n",
       "      <td>224</td>\n",
       "      <td>811</td>\n",
       "      <td>382</td>\n",
       "      <td>249</td>\n",
       "    </tr>\n",
       "  </tbody>\n",
       "</table>\n",
       "</div>"
      ],
      "text/plain": [
       "       Mon  Tus  Wed  Thurs  Friday\n",
       "Price  477  224  811    382     249"
      ]
     },
     "execution_count": 31,
     "metadata": {},
     "output_type": "execute_result"
    }
   ],
   "source": [
    "daily_Sales = price.dot(nutButter_sale.T)\n",
    "daily_Sales"
   ]
  },
  {
   "cell_type": "code",
   "execution_count": 34,
   "id": "b087445f-5220-4eee-a9b6-5d15db8d32aa",
   "metadata": {},
   "outputs": [
    {
     "ename": "ValueError",
     "evalue": "Columns must be same length as key",
     "output_type": "error",
     "traceback": [
      "\u001b[31m---------------------------------------------------------------------------\u001b[39m",
      "\u001b[31mValueError\u001b[39m                                Traceback (most recent call last)",
      "\u001b[32m~\\AppData\\Local\\Temp\\ipykernel_6776\\4152501524.py\u001b[39m in \u001b[36m?\u001b[39m\u001b[34m()\u001b[39m\n\u001b[32m----> \u001b[39m\u001b[32m1\u001b[39m nutButter_sale[\u001b[33m\"Total $\"\u001b[39m] = daily_Sales\n\u001b[32m      2\u001b[39m nutButter_sale\n",
      "\u001b[32m~\\Desktop\\MachineLearning\\Theory\\Introduction_to_Numpy\\env\\Lib\\site-packages\\pandas\\core\\frame.py\u001b[39m in \u001b[36m?\u001b[39m\u001b[34m(self, key, value)\u001b[39m\n\u001b[32m   4297\u001b[39m             self._setitem_frame(key, value)\n\u001b[32m   4298\u001b[39m         \u001b[38;5;28;01melif\u001b[39;00m isinstance(key, (Series, np.ndarray, list, Index)):\n\u001b[32m   4299\u001b[39m             self._setitem_array(key, value)\n\u001b[32m   4300\u001b[39m         \u001b[38;5;28;01melif\u001b[39;00m isinstance(value, DataFrame):\n\u001b[32m-> \u001b[39m\u001b[32m4301\u001b[39m             self._set_item_frame_value(key, value)\n\u001b[32m   4302\u001b[39m         elif (\n\u001b[32m   4303\u001b[39m             is_list_like(value)\n\u001b[32m   4304\u001b[39m             \u001b[38;5;28;01mand\u001b[39;00m \u001b[38;5;28;01mnot\u001b[39;00m self.columns.is_unique\n",
      "\u001b[32m~\\Desktop\\MachineLearning\\Theory\\Introduction_to_Numpy\\env\\Lib\\site-packages\\pandas\\core\\frame.py\u001b[39m in \u001b[36m?\u001b[39m\u001b[34m(self, key, value)\u001b[39m\n\u001b[32m   4425\u001b[39m             loc = self.columns.get_loc(key)\n\u001b[32m   4426\u001b[39m             cols = self.columns[loc]\n\u001b[32m   4427\u001b[39m             len_cols = \u001b[32m1\u001b[39m \u001b[38;5;28;01mif\u001b[39;00m is_scalar(cols) \u001b[38;5;28;01mor\u001b[39;00m isinstance(cols, tuple) \u001b[38;5;28;01melse\u001b[39;00m len(cols)\n\u001b[32m   4428\u001b[39m             \u001b[38;5;28;01mif\u001b[39;00m len_cols != len(value.columns):\n\u001b[32m-> \u001b[39m\u001b[32m4429\u001b[39m                 \u001b[38;5;28;01mraise\u001b[39;00m ValueError(\u001b[33m\"Columns must be same length as key\"\u001b[39m)\n\u001b[32m   4430\u001b[39m \n\u001b[32m   4431\u001b[39m             \u001b[38;5;66;03m# align right-hand-side columns if self.columns\u001b[39;00m\n\u001b[32m   4432\u001b[39m             \u001b[38;5;66;03m# is multi-index and self[key] is a sub-frame\u001b[39;00m\n",
      "\u001b[31mValueError\u001b[39m: Columns must be same length as key"
     ]
    }
   ],
   "source": [
    "nutButter_sale[\"Total $\"] = daily_Sales\n",
    "nutButter_sale\n",
    "#error shape of nutButter_sale (5,3) and daily_Sales (1,5)"
   ]
  },
  {
   "cell_type": "code",
   "execution_count": 35,
   "id": "e48e82c3-ce72-46fb-ac4e-f314e8a8fe8b",
   "metadata": {},
   "outputs": [
    {
     "data": {
      "text/html": [
       "<div>\n",
       "<style scoped>\n",
       "    .dataframe tbody tr th:only-of-type {\n",
       "        vertical-align: middle;\n",
       "    }\n",
       "\n",
       "    .dataframe tbody tr th {\n",
       "        vertical-align: top;\n",
       "    }\n",
       "\n",
       "    .dataframe thead th {\n",
       "        text-align: right;\n",
       "    }\n",
       "</style>\n",
       "<table border=\"1\" class=\"dataframe\">\n",
       "  <thead>\n",
       "    <tr style=\"text-align: right;\">\n",
       "      <th></th>\n",
       "      <th>Almond Butter</th>\n",
       "      <th>Peanut Butter</th>\n",
       "      <th>Cashew Butter</th>\n",
       "      <th>Total $</th>\n",
       "    </tr>\n",
       "  </thead>\n",
       "  <tbody>\n",
       "    <tr>\n",
       "      <th>Mon</th>\n",
       "      <td>12</td>\n",
       "      <td>15</td>\n",
       "      <td>0</td>\n",
       "      <td>477</td>\n",
       "    </tr>\n",
       "    <tr>\n",
       "      <th>Tus</th>\n",
       "      <td>3</td>\n",
       "      <td>3</td>\n",
       "      <td>7</td>\n",
       "      <td>224</td>\n",
       "    </tr>\n",
       "    <tr>\n",
       "      <th>Wed</th>\n",
       "      <td>9</td>\n",
       "      <td>19</td>\n",
       "      <td>18</td>\n",
       "      <td>811</td>\n",
       "    </tr>\n",
       "    <tr>\n",
       "      <th>Thurs</th>\n",
       "      <td>4</td>\n",
       "      <td>6</td>\n",
       "      <td>12</td>\n",
       "      <td>382</td>\n",
       "    </tr>\n",
       "    <tr>\n",
       "      <th>Friday</th>\n",
       "      <td>1</td>\n",
       "      <td>6</td>\n",
       "      <td>7</td>\n",
       "      <td>249</td>\n",
       "    </tr>\n",
       "  </tbody>\n",
       "</table>\n",
       "</div>"
      ],
      "text/plain": [
       "        Almond Butter  Peanut Butter  Cashew Butter  Total $\n",
       "Mon                12             15              0      477\n",
       "Tus                 3              3              7      224\n",
       "Wed                 9             19             18      811\n",
       "Thurs               4              6             12      382\n",
       "Friday              1              6              7      249"
      ]
     },
     "execution_count": 35,
     "metadata": {},
     "output_type": "execute_result"
    }
   ],
   "source": [
    "nutButter_sale[\"Total $\"] = daily_Sales.T\n",
    "nutButter_sale"
   ]
  },
  {
   "cell_type": "markdown",
   "id": "2386eb71-0da4-4c40-b599-0f1f16c615d0",
   "metadata": {},
   "source": [
    "### Comparison Operators"
   ]
  },
  {
   "cell_type": "markdown",
   "id": "3563634d-5120-41d4-8cfc-6d7ec0d797d3",
   "metadata": {},
   "source": [
    "#### Finding out if one array is larger, smaller or equal to another."
   ]
  },
  {
   "cell_type": "code",
   "execution_count": 38,
   "id": "f24bcb07-a3ba-4495-8c7c-13ee9aea3434",
   "metadata": {},
   "outputs": [
    {
     "data": {
      "text/plain": [
       "array([[12, 15,  0],\n",
       "       [ 3,  3,  7],\n",
       "       [ 9, 19, 18],\n",
       "       [ 4,  6, 12],\n",
       "       [ 1,  6,  7]], dtype=int32)"
      ]
     },
     "execution_count": 38,
     "metadata": {},
     "output_type": "execute_result"
    }
   ],
   "source": [
    "array1"
   ]
  },
  {
   "cell_type": "code",
   "execution_count": 39,
   "id": "740d1dc6-eed2-4277-8c94-427fed428f58",
   "metadata": {},
   "outputs": [
    {
     "data": {
      "text/plain": [
       "array([[16, 19, 17]], dtype=int32)"
      ]
     },
     "execution_count": 39,
     "metadata": {},
     "output_type": "execute_result"
    }
   ],
   "source": [
    "array2"
   ]
  },
  {
   "cell_type": "code",
   "execution_count": 40,
   "id": "3727f7c4-c35a-444f-ad24-90d4a3bfbe40",
   "metadata": {},
   "outputs": [
    {
     "data": {
      "text/plain": [
       "array([[False, False, False],\n",
       "       [False, False, False],\n",
       "       [False, False,  True],\n",
       "       [False, False, False],\n",
       "       [False, False, False]])"
      ]
     },
     "execution_count": 40,
     "metadata": {},
     "output_type": "execute_result"
    }
   ],
   "source": [
    "array1 > array2"
   ]
  },
  {
   "cell_type": "code",
   "execution_count": 41,
   "id": "16fe92ce-596c-4153-89c1-2a1aa97d8c34",
   "metadata": {},
   "outputs": [
    {
     "data": {
      "text/plain": [
       "array([[ True,  True, False],\n",
       "       [False, False,  True],\n",
       "       [ True,  True,  True],\n",
       "       [False,  True,  True],\n",
       "       [False,  True,  True]])"
      ]
     },
     "execution_count": 41,
     "metadata": {},
     "output_type": "execute_result"
    }
   ],
   "source": [
    "array1 > 5"
   ]
  },
  {
   "cell_type": "code",
   "execution_count": 42,
   "id": "bd031d1b-0d14-41c6-86cc-821fe9d2b3dc",
   "metadata": {},
   "outputs": [
    {
     "data": {
      "text/plain": [
       "array([[ True,  True,  True],\n",
       "       [ True,  True,  True],\n",
       "       [ True,  True,  True],\n",
       "       [ True,  True,  True],\n",
       "       [ True,  True,  True]])"
      ]
     },
     "execution_count": 42,
     "metadata": {},
     "output_type": "execute_result"
    }
   ],
   "source": [
    "array1 == array1"
   ]
  },
  {
   "cell_type": "code",
   "execution_count": 43,
   "id": "78a6487f-04e8-4ebb-8ee6-cf2bd66e3b95",
   "metadata": {},
   "outputs": [
    {
     "data": {
      "text/plain": [
       "array([[False, False, False],\n",
       "       [False, False, False],\n",
       "       [False,  True, False],\n",
       "       [False, False, False],\n",
       "       [False, False, False]])"
      ]
     },
     "execution_count": 43,
     "metadata": {},
     "output_type": "execute_result"
    }
   ],
   "source": [
    "array1 == array2"
   ]
  },
  {
   "cell_type": "markdown",
   "id": "4464f76e-1854-46a7-811a-7e8777e60383",
   "metadata": {},
   "source": [
    "## 5.Sorting Array"
   ]
  },
  {
   "cell_type": "code",
   "execution_count": 46,
   "id": "eed909a9-7613-46a0-bcce-e43b4d624c74",
   "metadata": {
    "scrolled": true
   },
   "outputs": [
    {
     "data": {
      "text/plain": [
       "array([[0, 3, 3, 7, 9],\n",
       "       [3, 5, 2, 4, 7],\n",
       "       [6, 8, 8, 1, 6]], dtype=int32)"
      ]
     },
     "execution_count": 46,
     "metadata": {},
     "output_type": "execute_result"
    }
   ],
   "source": [
    "random_array = np.random.randint(0,10,(3,5))\n",
    "random_array"
   ]
  },
  {
   "cell_type": "code",
   "execution_count": 47,
   "id": "4c0c69f8-762d-422d-abfe-b43fc26ba2c7",
   "metadata": {},
   "outputs": [
    {
     "data": {
      "text/plain": [
       "array([[0, 3, 3, 7, 9],\n",
       "       [2, 3, 4, 5, 7],\n",
       "       [1, 6, 6, 8, 8]], dtype=int32)"
      ]
     },
     "execution_count": 47,
     "metadata": {},
     "output_type": "execute_result"
    }
   ],
   "source": [
    "np.sort(random_array)"
   ]
  },
  {
   "cell_type": "code",
   "execution_count": 48,
   "id": "78877656-036b-4234-a5d2-711d502d8718",
   "metadata": {},
   "outputs": [
    {
     "data": {
      "text/plain": [
       "array([[0, 1, 2, 3, 4],\n",
       "       [2, 0, 3, 1, 4],\n",
       "       [3, 0, 4, 1, 2]])"
      ]
     },
     "execution_count": 48,
     "metadata": {},
     "output_type": "execute_result"
    }
   ],
   "source": [
    "np.argsort(random_array)"
   ]
  },
  {
   "cell_type": "code",
   "execution_count": 55,
   "id": "0cca67f5-d0f0-44a9-a981-934eae8fd69c",
   "metadata": {},
   "outputs": [
    {
     "data": {
      "text/plain": [
       "np.int64(4)"
      ]
     },
     "execution_count": 55,
     "metadata": {},
     "output_type": "execute_result"
    }
   ],
   "source": [
    "# argmax - Returns the index of the highest value in the array.\n",
    "np.argmax(random_array) \n"
   ]
  },
  {
   "cell_type": "code",
   "execution_count": 56,
   "id": "c96e7b60-8ae3-4a38-98d0-0e67c8ae86f2",
   "metadata": {},
   "outputs": [
    {
     "data": {
      "text/plain": [
       "np.int64(0)"
      ]
     },
     "execution_count": 56,
     "metadata": {},
     "output_type": "execute_result"
    }
   ],
   "source": [
    "# argmin - Returns the index of the smallest value in the array.\n",
    "np.argmin(random_array) "
   ]
  },
  {
   "cell_type": "code",
   "execution_count": 51,
   "id": "ca02edb0-d2ce-4f1f-9ad2-cf27833fe976",
   "metadata": {},
   "outputs": [
    {
     "data": {
      "text/plain": [
       "array([[0, 3, 3, 7, 9],\n",
       "       [3, 5, 2, 4, 7],\n",
       "       [6, 8, 8, 1, 6]], dtype=int32)"
      ]
     },
     "execution_count": 51,
     "metadata": {},
     "output_type": "execute_result"
    }
   ],
   "source": [
    "random_array"
   ]
  },
  {
   "cell_type": "code",
   "execution_count": 59,
   "id": "f59542b5-d34a-4d30-908c-59b2cf480ccd",
   "metadata": {},
   "outputs": [
    {
     "data": {
      "text/plain": [
       "array([0, 2, 3])"
      ]
     },
     "execution_count": 59,
     "metadata": {},
     "output_type": "execute_result"
    }
   ],
   "source": [
    "#returns the indices of the minimum values along each row of a 2D array\n",
    "np.argmin(random_array,axis=1) "
   ]
  },
  {
   "cell_type": "code",
   "execution_count": 60,
   "id": "7c97c43b-d4dd-4e08-967f-baa2444db523",
   "metadata": {},
   "outputs": [
    {
     "data": {
      "text/plain": [
       "array([0, 0, 1, 2, 2])"
      ]
     },
     "execution_count": 60,
     "metadata": {},
     "output_type": "execute_result"
    }
   ],
   "source": [
    "#returns the indices of the minimum values along each column of a 2D array.\n",
    "np.argmin(random_array,axis=0) "
   ]
  },
  {
   "cell_type": "markdown",
   "id": "e1e95429-ffa5-4aee-9026-a43c12095ec1",
   "metadata": {},
   "source": [
    "### Turn Image Into Numpy Array - Practical Application"
   ]
  },
  {
   "cell_type": "markdown",
   "id": "fa925610-8684-4625-831f-a3abf86751fc",
   "metadata": {},
   "source": [
    "<img src=\"images/panda.png\"/>"
   ]
  },
  {
   "cell_type": "code",
   "execution_count": 64,
   "id": "41ffd24e-0888-43d9-a6e0-a7aa7b55e6f1",
   "metadata": {},
   "outputs": [],
   "source": [
    "# Converting image into a NUmpy Array"
   ]
  },
  {
   "cell_type": "code",
   "execution_count": 69,
   "id": "8029764c-6994-43cf-8458-825aff85aeb9",
   "metadata": {},
   "outputs": [],
   "source": [
    "from matplotlib.image import imread"
   ]
  },
  {
   "cell_type": "code",
   "execution_count": 70,
   "id": "edc8a768-5265-47d1-8782-972edc9eaf3e",
   "metadata": {},
   "outputs": [
    {
     "data": {
      "text/plain": [
       "numpy.ndarray"
      ]
     },
     "execution_count": 70,
     "metadata": {},
     "output_type": "execute_result"
    }
   ],
   "source": [
    "# imread() = Read an image from a file into an array.\n",
    "panda = imread(\"images/panda.png\")\n",
    "type(panda)"
   ]
  },
  {
   "cell_type": "code",
   "execution_count": 71,
   "id": "ec97659e-a59b-48b3-a248-a898fb1ca416",
   "metadata": {},
   "outputs": [
    {
     "data": {
      "text/plain": [
       "array([[[0.05490196, 0.10588235, 0.06666667],\n",
       "        [0.05490196, 0.10588235, 0.06666667],\n",
       "        [0.05490196, 0.10588235, 0.06666667],\n",
       "        ...,\n",
       "        [0.16470589, 0.12941177, 0.09411765],\n",
       "        [0.16470589, 0.12941177, 0.09411765],\n",
       "        [0.16470589, 0.12941177, 0.09411765]],\n",
       "\n",
       "       [[0.05490196, 0.10588235, 0.06666667],\n",
       "        [0.05490196, 0.10588235, 0.06666667],\n",
       "        [0.05490196, 0.10588235, 0.06666667],\n",
       "        ...,\n",
       "        [0.16470589, 0.12941177, 0.09411765],\n",
       "        [0.16470589, 0.12941177, 0.09411765],\n",
       "        [0.16470589, 0.12941177, 0.09411765]],\n",
       "\n",
       "       [[0.05490196, 0.10588235, 0.06666667],\n",
       "        [0.05490196, 0.10588235, 0.06666667],\n",
       "        [0.05490196, 0.10588235, 0.06666667],\n",
       "        ...,\n",
       "        [0.16470589, 0.12941177, 0.09411765],\n",
       "        [0.16470589, 0.12941177, 0.09411765],\n",
       "        [0.16470589, 0.12941177, 0.09411765]],\n",
       "\n",
       "       ...,\n",
       "\n",
       "       [[0.13333334, 0.07450981, 0.05490196],\n",
       "        [0.12156863, 0.0627451 , 0.04313726],\n",
       "        [0.10980392, 0.05098039, 0.03137255],\n",
       "        ...,\n",
       "        [0.02745098, 0.02745098, 0.03529412],\n",
       "        [0.02745098, 0.02745098, 0.03529412],\n",
       "        [0.02745098, 0.02745098, 0.03529412]],\n",
       "\n",
       "       [[0.13333334, 0.07450981, 0.05490196],\n",
       "        [0.12156863, 0.0627451 , 0.04313726],\n",
       "        [0.12156863, 0.0627451 , 0.04313726],\n",
       "        ...,\n",
       "        [0.02352941, 0.02352941, 0.03137255],\n",
       "        [0.02352941, 0.02352941, 0.03137255],\n",
       "        [0.02352941, 0.02352941, 0.03137255]],\n",
       "\n",
       "       [[0.13333334, 0.07450981, 0.05490196],\n",
       "        [0.12156863, 0.0627451 , 0.04313726],\n",
       "        [0.12156863, 0.0627451 , 0.04313726],\n",
       "        ...,\n",
       "        [0.02352941, 0.02352941, 0.03137255],\n",
       "        [0.02352941, 0.02352941, 0.03137255],\n",
       "        [0.02352941, 0.02352941, 0.03137255]]],\n",
       "      shape=(2330, 3500, 3), dtype=float32)"
      ]
     },
     "execution_count": 71,
     "metadata": {},
     "output_type": "execute_result"
    }
   ],
   "source": [
    "panda"
   ]
  },
  {
   "cell_type": "code",
   "execution_count": 72,
   "id": "b84674fe-1972-4030-a56f-16fc0c0a0bb9",
   "metadata": {},
   "outputs": [
    {
     "data": {
      "text/plain": [
       "(24465000, (2330, 3500, 3), 3)"
      ]
     },
     "execution_count": 72,
     "metadata": {},
     "output_type": "execute_result"
    }
   ],
   "source": [
    "panda.size , panda.shape , panda.ndim"
   ]
  },
  {
   "cell_type": "markdown",
   "id": "7af5a6ce-a5c1-4e6d-b2ee-3509588e441f",
   "metadata": {},
   "source": [
    "<img src=\"images/car-photo.png\"/>"
   ]
  },
  {
   "cell_type": "code",
   "execution_count": 75,
   "id": "db586d2a-30bb-4532-8da1-151353315664",
   "metadata": {},
   "outputs": [
    {
     "data": {
      "text/plain": [
       "array([[[0.5019608 , 0.50980395, 0.4862745 , 1.        ],\n",
       "        [0.3372549 , 0.34509805, 0.30588236, 1.        ],\n",
       "        [0.20392157, 0.21568628, 0.14901961, 1.        ],\n",
       "        ...,\n",
       "        [0.64705884, 0.7058824 , 0.54901963, 1.        ],\n",
       "        [0.59607846, 0.63529414, 0.45882353, 1.        ],\n",
       "        [0.44705883, 0.47058824, 0.3372549 , 1.        ]],\n",
       "\n",
       "       [[0.44313726, 0.43529412, 0.40392157, 1.        ],\n",
       "        [0.3137255 , 0.31764707, 0.27450982, 1.        ],\n",
       "        [0.2       , 0.21176471, 0.14117648, 1.        ],\n",
       "        ...,\n",
       "        [0.5058824 , 0.5372549 , 0.4117647 , 1.        ],\n",
       "        [0.49803922, 0.52156866, 0.39607844, 1.        ],\n",
       "        [0.4       , 0.42745098, 0.34117648, 1.        ]],\n",
       "\n",
       "       [[0.39607844, 0.38039216, 0.34117648, 1.        ],\n",
       "        [0.31764707, 0.3137255 , 0.27450982, 1.        ],\n",
       "        [0.28627452, 0.29411766, 0.24705882, 1.        ],\n",
       "        ...,\n",
       "        [0.44705883, 0.45882353, 0.32156864, 1.        ],\n",
       "        [0.45882353, 0.48235294, 0.3529412 , 1.        ],\n",
       "        [0.4509804 , 0.49019608, 0.38039216, 1.        ]],\n",
       "\n",
       "       ...,\n",
       "\n",
       "       [[0.47058824, 0.57254905, 0.6313726 , 1.        ],\n",
       "        [0.4392157 , 0.53333336, 0.5882353 , 1.        ],\n",
       "        [0.48235294, 0.5803922 , 0.6392157 , 1.        ],\n",
       "        ...,\n",
       "        [0.6156863 , 0.7529412 , 0.827451  , 1.        ],\n",
       "        [0.61960787, 0.7607843 , 0.83137256, 1.        ],\n",
       "        [0.5921569 , 0.73333335, 0.7921569 , 1.        ]],\n",
       "\n",
       "       [[0.4745098 , 0.5803922 , 0.6392157 , 1.        ],\n",
       "        [0.47058824, 0.58431375, 0.63529414, 1.        ],\n",
       "        [0.4117647 , 0.5019608 , 0.5529412 , 1.        ],\n",
       "        ...,\n",
       "        [0.54901963, 0.6784314 , 0.74509805, 1.        ],\n",
       "        [0.65882355, 0.8117647 , 0.8862745 , 1.        ],\n",
       "        [0.60784316, 0.74509805, 0.8117647 , 1.        ]],\n",
       "\n",
       "       [[0.4745098 , 0.57254905, 0.627451  , 1.        ],\n",
       "        [0.49411765, 0.6       , 0.65882355, 1.        ],\n",
       "        [0.49019608, 0.5921569 , 0.64705884, 1.        ],\n",
       "        ...,\n",
       "        [0.5294118 , 0.63529414, 0.69803923, 1.        ],\n",
       "        [0.5529412 , 0.67058825, 0.7372549 , 1.        ],\n",
       "        [0.6156863 , 0.73333335, 0.8       , 1.        ]]],\n",
       "      shape=(431, 575, 4), dtype=float32)"
      ]
     },
     "execution_count": 75,
     "metadata": {},
     "output_type": "execute_result"
    }
   ],
   "source": [
    "car = imread(\"images/car-photo.png\")\n",
    "car"
   ]
  },
  {
   "cell_type": "code",
   "execution_count": 76,
   "id": "882287d8-bff8-4eae-b847-8eff15e92780",
   "metadata": {},
   "outputs": [
    {
     "data": {
      "text/plain": [
       "(991300, (431, 575, 4), 3)"
      ]
     },
     "execution_count": 76,
     "metadata": {},
     "output_type": "execute_result"
    }
   ],
   "source": [
    "car.size , car.shape , car.ndim"
   ]
  },
  {
   "cell_type": "code",
   "execution_count": null,
   "id": "8bc0856c-3714-4c15-9069-cc16a9556e36",
   "metadata": {},
   "outputs": [],
   "source": []
  }
 ],
 "metadata": {
  "kernelspec": {
   "display_name": "Python 3 (ipykernel)",
   "language": "python",
   "name": "python3"
  },
  "language_info": {
   "codemirror_mode": {
    "name": "ipython",
    "version": 3
   },
   "file_extension": ".py",
   "mimetype": "text/x-python",
   "name": "python",
   "nbconvert_exporter": "python",
   "pygments_lexer": "ipython3",
   "version": "3.13.5"
  }
 },
 "nbformat": 4,
 "nbformat_minor": 5
}
